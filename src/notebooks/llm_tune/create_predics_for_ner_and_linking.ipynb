{
 "cells": [
  {
   "cell_type": "code",
   "execution_count": null,
   "metadata": {},
   "outputs": [],
   "source": [
    "import os, sys\n",
    "\n",
    "BASE_PATH = ''\n",
    "\n",
    "os.chdir(BASE_PATH)"
   ]
  },
  {
   "cell_type": "code",
   "execution_count": 11,
   "metadata": {},
   "outputs": [],
   "source": [
    "import re\n",
    "import yaml\n",
    "import numpy as np\n",
    "import pandas as pd\n",
    "from tqdm.notebook import tqdm"
   ]
  },
  {
   "cell_type": "code",
   "execution_count": 3,
   "metadata": {},
   "outputs": [
    {
     "data": {
      "text/plain": [
       "(17762, 17762)"
      ]
     },
     "execution_count": 3,
     "metadata": {},
     "output_type": "execute_result"
    }
   ],
   "source": [
    "with open('data/mkb2descr_new.yaml', 'r') as f:\n",
    "    mkb2descr = yaml.safe_load(f)\n",
    "descr2mkb = {f'{v} - {k}': k for k, v in mkb2descr.items()}\n",
    "len(mkb2descr), len(descr2mkb)"
   ]
  },
  {
   "cell_type": "code",
   "execution_count": 49,
   "metadata": {},
   "outputs": [
    {
     "data": {
      "text/plain": [
       "17312"
      ]
     },
     "execution_count": 49,
     "metadata": {},
     "output_type": "execute_result"
    }
   ],
   "source": [
    "with open('data/idx2mkb.yaml', 'r') as f:\n",
    "    idx2mkb = yaml.safe_load(f)\n",
    "mkb2idx = {mkb: idx for idx, mkb in idx2mkb.items()}\n",
    "len(mkb2idx)"
   ]
  },
  {
   "cell_type": "code",
   "execution_count": 102,
   "metadata": {},
   "outputs": [],
   "source": [
    "def transform_predicted_idx(idx: str) -> int:\n",
    "    idx = re.sub(\"[^0-9]\", \"\", idx)\n",
    "\n",
    "    if len(idx) == 0:\n",
    "        return 1\n",
    "\n",
    "    if len(idx) == 1:\n",
    "        if int(idx[0]) == 0:\n",
    "            return 1\n",
    "        else:\n",
    "            return int(idx)\n",
    "\n",
    "    while int(idx[0]) == 0:\n",
    "        if len(idx) == 1:\n",
    "            return 1\n",
    "        idx = idx[1:]\n",
    "\n",
    "    if int(idx[0]) > 1:\n",
    "        return int(idx[0])\n",
    "    \n",
    "    idx = idx[:2]\n",
    "    return int(idx)"
   ]
  },
  {
   "cell_type": "code",
   "execution_count": 103,
   "metadata": {},
   "outputs": [],
   "source": [
    "import difflib\n",
    "def find_similar_substring(text, pattern, max_distance=2):\n",
    "    # Разбиваем текст на подстроки длиной, равной длине шаблона\n",
    "    for i in range(len(text) - len(pattern) + 1):\n",
    "        substring = text[i:i+len(pattern)]\n",
    "        # Вычисляем расстояние Левенштейна\n",
    "        distance = difflib.SequenceMatcher(None, substring, pattern).ratio()\n",
    "        # Если расстояние меньше или равно max_distance, возвращаем позицию\n",
    "        if distance >= 1 - (max_distance / len(pattern)):\n",
    "            return i\n",
    "    return -1\n",
    "\n",
    "def form_ann_str(text: str, preds: dict, mkb2idx: dict) -> str:\n",
    "    ann_str = ''\n",
    "    offset = 0\n",
    "    grouped_preds = list(zip(preds['entities'], preds['mkbs']))\n",
    "    for i, (entity, code) in enumerate(grouped_preds, start=1):\n",
    "\n",
    "        start = text.find(entity, offset)\n",
    "        if start == -1:\n",
    "            start = find_similar_substring(text, entity)\n",
    "        end = start + len(entity)\n",
    "        if start > 0:\n",
    "            offset = end\n",
    "\n",
    "        ann_str += f\"T{i}\\ticd_code {start} {end}\\t{entity}\\n\"\n",
    "        ann_str += f\"N{i}\\tReference T{i} ICD_codes:{mkb2idx.get(code, -1)}\\t{code}\\n\"\n",
    "\n",
    "    return ann_str\n",
    "\n",
    "def group_case(case):\n",
    "    return (\n",
    "        case['text'].iloc[0], \n",
    "        {\n",
    "            'entities': case['entity'].to_list(),\n",
    "            'mkbs': case['pred_mkb'].to_list()\n",
    "        }\n",
    "    )"
   ]
  },
  {
   "cell_type": "code",
   "execution_count": 6,
   "metadata": {},
   "outputs": [
    {
     "name": "stdout",
     "output_type": "stream",
     "text": [
      "(500, 5)\n"
     ]
    },
    {
     "data": {
      "text/html": [
       "<div>\n",
       "<style scoped>\n",
       "    .dataframe tbody tr th:only-of-type {\n",
       "        vertical-align: middle;\n",
       "    }\n",
       "\n",
       "    .dataframe tbody tr th {\n",
       "        vertical-align: top;\n",
       "    }\n",
       "\n",
       "    .dataframe thead th {\n",
       "        text-align: right;\n",
       "    }\n",
       "</style>\n",
       "<table border=\"1\" class=\"dataframe\">\n",
       "  <thead>\n",
       "    <tr style=\"text-align: right;\">\n",
       "      <th></th>\n",
       "      <th>text</th>\n",
       "      <th>text_labels</th>\n",
       "      <th>labled_entities</th>\n",
       "      <th>mkb_texts</th>\n",
       "      <th>mkb_codes</th>\n",
       "    </tr>\n",
       "  </thead>\n",
       "  <tbody>\n",
       "    <tr>\n",
       "      <th>0</th>\n",
       "      <td>Аднексит слева ?Кисты экзоцервикса.</td>\n",
       "      <td>&lt;mkb code=N70.9&gt;Аднексит&lt;/mkb&gt; слева ?&lt;mkb co...</td>\n",
       "      <td>&lt;mkb&gt;Аднексит&lt;/mkb&gt; слева ?&lt;mkb&gt;Кисты экзоцер...</td>\n",
       "      <td>[Аднексит, Кисты экзоцервикса]</td>\n",
       "      <td>[N70.9, N88.8]</td>\n",
       "    </tr>\n",
       "    <tr>\n",
       "      <th>1</th>\n",
       "      <td>Эндоцервицит?. Вагинит.? Хр. сальпингоофорит в...</td>\n",
       "      <td>Эндоцервицит?. Вагинит.? Хр. сальпингоофорит в...</td>\n",
       "      <td>Эндоцервицит?. Вагинит.? Хр. сальпингоофорит в...</td>\n",
       "      <td>[ Гиперандрогени, Вагинит, сальпингоофорит, Хр...</td>\n",
       "      <td>[E28.1, N76.0, N70.1, N88, D25.9, N80.0, N71.1...</td>\n",
       "    </tr>\n",
       "    <tr>\n",
       "      <th>2</th>\n",
       "      <td>ОРВИ. Острый ринофарингиотрахеит, течение</td>\n",
       "      <td>&lt;mkb code=J00-J06&gt;ОРВИ&lt;/mkb&gt;. &lt;mkb code=J00&gt;Ос...</td>\n",
       "      <td>&lt;mkb&gt;ОРВИ&lt;/mkb&gt;. &lt;mkb&gt;Острый ринофарингиотрахе...</td>\n",
       "      <td>[ОРВИ, Острый ринофарингиотрахеит]</td>\n",
       "      <td>[J00-J06, J00]</td>\n",
       "    </tr>\n",
       "    <tr>\n",
       "      <th>3</th>\n",
       "      <td>Острый трахеит , течение на фоне  ОРВИ, острый...</td>\n",
       "      <td>&lt;mkb code=J04.1&gt;Острый трахеит&lt;/mkb&gt; , течение...</td>\n",
       "      <td>&lt;mkb&gt;Острый трахеит&lt;/mkb&gt; , течение на фоне  &lt;...</td>\n",
       "      <td>[Острый трахеит, ОРВИ, острый назофарингит,  Д...</td>\n",
       "      <td>[J04.1, J00-J06, J00, L30.9]</td>\n",
       "    </tr>\n",
       "    <tr>\n",
       "      <th>4</th>\n",
       "      <td>Дорсопатия шейного отдела позвоночника на фоне...</td>\n",
       "      <td>&lt;mkb code=M50.8&gt;Дорсопатия шейного отдела позв...</td>\n",
       "      <td>&lt;mkb&gt;Дорсопатия шейного отдела позвоночника&lt;/m...</td>\n",
       "      <td>[Дорсопатия шейного отдела позвоночника, деген...</td>\n",
       "      <td>[M50.8, M42.1, M79.1, M54.2, H81.9]</td>\n",
       "    </tr>\n",
       "  </tbody>\n",
       "</table>\n",
       "</div>"
      ],
      "text/plain": [
       "                                                text  \\\n",
       "0                Аднексит слева ?Кисты экзоцервикса.   \n",
       "1  Эндоцервицит?. Вагинит.? Хр. сальпингоофорит в...   \n",
       "2          ОРВИ. Острый ринофарингиотрахеит, течение   \n",
       "3  Острый трахеит , течение на фоне  ОРВИ, острый...   \n",
       "4  Дорсопатия шейного отдела позвоночника на фоне...   \n",
       "\n",
       "                                         text_labels  \\\n",
       "0   <mkb code=N70.9>Аднексит</mkb> слева ?<mkb co...   \n",
       "1  Эндоцервицит?. Вагинит.? Хр. сальпингоофорит в...   \n",
       "2  <mkb code=J00-J06>ОРВИ</mkb>. <mkb code=J00>Ос...   \n",
       "3  <mkb code=J04.1>Острый трахеит</mkb> , течение...   \n",
       "4  <mkb code=M50.8>Дорсопатия шейного отдела позв...   \n",
       "\n",
       "                                     labled_entities  \\\n",
       "0   <mkb>Аднексит</mkb> слева ?<mkb>Кисты экзоцер...   \n",
       "1  Эндоцервицит?. Вагинит.? Хр. сальпингоофорит в...   \n",
       "2  <mkb>ОРВИ</mkb>. <mkb>Острый ринофарингиотрахе...   \n",
       "3  <mkb>Острый трахеит</mkb> , течение на фоне  <...   \n",
       "4  <mkb>Дорсопатия шейного отдела позвоночника</m...   \n",
       "\n",
       "                                           mkb_texts  \\\n",
       "0                     [Аднексит, Кисты экзоцервикса]   \n",
       "1  [ Гиперандрогени, Вагинит, сальпингоофорит, Хр...   \n",
       "2                 [ОРВИ, Острый ринофарингиотрахеит]   \n",
       "3  [Острый трахеит, ОРВИ, острый назофарингит,  Д...   \n",
       "4  [Дорсопатия шейного отдела позвоночника, деген...   \n",
       "\n",
       "                                           mkb_codes  \n",
       "0                                     [N70.9, N88.8]  \n",
       "1  [E28.1, N76.0, N70.1, N88, D25.9, N80.0, N71.1...  \n",
       "2                                     [J00-J06, J00]  \n",
       "3                       [J04.1, J00-J06, J00, L30.9]  \n",
       "4                [M50.8, M42.1, M79.1, M54.2, H81.9]  "
      ]
     },
     "execution_count": 6,
     "metadata": {},
     "output_type": "execute_result"
    }
   ],
   "source": [
    "oper_test_df = pd.read_parquet('data/oper_test_df_v2.parquet')\n",
    "print(oper_test_df.shape)\n",
    "oper_test_df.head()"
   ]
  },
  {
   "cell_type": "code",
   "execution_count": 48,
   "metadata": {},
   "outputs": [
    {
     "data": {
      "text/plain": [
       "500"
      ]
     },
     "execution_count": 48,
     "metadata": {},
     "output_type": "execute_result"
    }
   ],
   "source": [
    "text_to_idx = {text: idx for idx, text in enumerate(oper_test_df['text'].to_list())}\n",
    "len(text_to_idx)"
   ]
  },
  {
   "cell_type": "code",
   "execution_count": 105,
   "metadata": {},
   "outputs": [],
   "source": [
    "def save_model_predicts(\n",
    "        linking_rag_df_path: str,\n",
    "        linking_pred_df_path: str,\n",
    "        save_path: str,\n",
    "        text2idx: dict,\n",
    "        mkb2idx: dict,\n",
    "    ):\n",
    "    linking_rag_df = pd.read_parquet(linking_rag_df_path)\n",
    "    linking_pred_df = pd.read_parquet(linking_pred_df_path)\n",
    "\n",
    "    linking_pred_df['predicted_idx'] = linking_pred_df['predicted_idx'].apply(transform_predicted_idx)\n",
    "    linking_pred_df['founded_mkbs'] = linking_rag_df['founded_mkbs']\n",
    "    linking_pred_df['pred_mkb'] = linking_pred_df.apply(\n",
    "        lambda case: case['founded_mkbs'][\n",
    "            min(\n",
    "                len(case['founded_mkbs']) - 1, \n",
    "                case['predicted_idx'] - 1\n",
    "            )\n",
    "        ], axis=1\n",
    "    )\n",
    "\n",
    "    preds_ds = linking_pred_df[['text', 'entity', 'pred_mkb']].groupby('text').apply(group_case)\n",
    "    preds_ds = dict(preds_ds.to_list())\n",
    "\n",
    "    for text, idx in text2idx.items():\n",
    "        preds = preds_ds.get(text, {'entities': [], 'mkbs': []})\n",
    "        ann_str = form_ann_str(text, preds, mkb2idx)\n",
    "\n",
    "        with open(os.path.join(save_path, f'{idx}.txt'), 'w') as f:\n",
    "            f.write(text)\n",
    "        with open(os.path.join(save_path, f'{idx}.ann'), 'w') as f:\n",
    "            f.write(ann_str)"
   ]
  },
  {
   "cell_type": "code",
   "execution_count": 97,
   "metadata": {},
   "outputs": [],
   "source": [
    "preds_paths = [\n",
    "    (\n",
    "        'data/preds_retrieval_ds/llama/icd_retrieval_df.parquet',\n",
    "        'results/linking_preds/icd/m42-health/Llama3-Med42-8B/icd.parquet',\n",
    "        'results/preds/Llama3-Med42-8B_ner_icd_linking'\n",
    "    ),\n",
    "    (\n",
    "        'data/preds_retrieval_ds/llama/tr_and_icd_retrieval_df.parquet',\n",
    "        'results/linking_preds/train_and_icd/m42-health/Llama3-Med42-8B/train_and_icd.parquet',\n",
    "        'results/preds/Llama3-Med42-8B_ner_train_and_icd_linking'\n",
    "    ),\n",
    "    (\n",
    "        'data/preds_retrieval_ds/mistral/icd_retrieval_df.parquet',\n",
    "        'results/linking_preds/icd/mistralai/Mistral-Nemo-Instruct-2407/icd.parquet',\n",
    "        'results/preds/Mistral-Nemo_ner_icd_linking'\n",
    "    ),\n",
    "    (\n",
    "        'data/preds_retrieval_ds/mistral/tr_and_icd_retrieval_df.parquet',\n",
    "        'results/linking_preds/train_and_icd/mistralai/Mistral-Nemo-Instruct-2407/train_and_icd.parquet',\n",
    "        'results/preds/Mistral-Nemo_ner_train_and_icd_linking'\n",
    "    ),\n",
    "    (\n",
    "        'data/preds_retrieval_ds/phi/icd_retrieval_df.parquet',\n",
    "        'results/linking_preds/icd/microsoft/Phi-3.5-mini-instruct/icd.parquet',\n",
    "        'results/preds/Phi3_5_mini_ner_icd_linking'\n",
    "    ),\n",
    "    (\n",
    "        'data/preds_retrieval_ds/phi/tr_and_icd_retrieval_df.parquet',\n",
    "        'results/linking_preds/train_and_icd/microsoft/Phi-3.5-mini-instruct/train_and_icd.parquet',\n",
    "        'results/preds/Phi3_5_mini_ner_train_and_icd_linking'\n",
    "    ),\n",
    "    (\n",
    "        'data/preds_retrieval_ds/qwen/icd_retrieval_df.parquet',\n",
    "        'results/linking_preds/icd/Qwen/Qwen2.5-7B-Instruct/icd.parquet',\n",
    "        'results/preds/Qwen2.5-7B-Instruct_ner_icd_linking'\n",
    "    ),\n",
    "    (\n",
    "        'data/preds_retrieval_ds/qwen/tr_and_icd_retrieval_df.parquet',\n",
    "        'results/linking_preds/train_and_icd/Qwen/Qwen2.5-7B-Instruct/train_and_icd.parquet',\n",
    "        'results/preds/Qwen2.5-7B-Instruct_ner_train_and_icd_linking'\n",
    "    ),\n",
    "]"
   ]
  },
  {
   "cell_type": "code",
   "execution_count": 106,
   "metadata": {},
   "outputs": [
    {
     "data": {
      "application/vnd.jupyter.widget-view+json": {
       "model_id": "dcc1e637b4894b1f8feb01c451ad0b33",
       "version_major": 2,
       "version_minor": 0
      },
      "text/plain": [
       "  0%|          | 0/8 [00:00<?, ?it/s]"
      ]
     },
     "metadata": {},
     "output_type": "display_data"
    },
    {
     "name": "stderr",
     "output_type": "stream",
     "text": [
      "/tmp/ipykernel_59512/3045859284.py:22: DeprecationWarning: DataFrameGroupBy.apply operated on the grouping columns. This behavior is deprecated, and in a future version of pandas the grouping columns will be excluded from the operation. Either pass `include_groups=False` to exclude the groupings or explicitly select the grouping columns after groupby to silence this warning.\n",
      "  preds_ds = linking_pred_df[['text', 'entity', 'pred_mkb']].groupby('text').apply(group_case)\n",
      "/tmp/ipykernel_59512/3045859284.py:22: DeprecationWarning: DataFrameGroupBy.apply operated on the grouping columns. This behavior is deprecated, and in a future version of pandas the grouping columns will be excluded from the operation. Either pass `include_groups=False` to exclude the groupings or explicitly select the grouping columns after groupby to silence this warning.\n",
      "  preds_ds = linking_pred_df[['text', 'entity', 'pred_mkb']].groupby('text').apply(group_case)\n",
      "/tmp/ipykernel_59512/3045859284.py:22: DeprecationWarning: DataFrameGroupBy.apply operated on the grouping columns. This behavior is deprecated, and in a future version of pandas the grouping columns will be excluded from the operation. Either pass `include_groups=False` to exclude the groupings or explicitly select the grouping columns after groupby to silence this warning.\n",
      "  preds_ds = linking_pred_df[['text', 'entity', 'pred_mkb']].groupby('text').apply(group_case)\n",
      "/tmp/ipykernel_59512/3045859284.py:22: DeprecationWarning: DataFrameGroupBy.apply operated on the grouping columns. This behavior is deprecated, and in a future version of pandas the grouping columns will be excluded from the operation. Either pass `include_groups=False` to exclude the groupings or explicitly select the grouping columns after groupby to silence this warning.\n",
      "  preds_ds = linking_pred_df[['text', 'entity', 'pred_mkb']].groupby('text').apply(group_case)\n",
      "/tmp/ipykernel_59512/3045859284.py:22: DeprecationWarning: DataFrameGroupBy.apply operated on the grouping columns. This behavior is deprecated, and in a future version of pandas the grouping columns will be excluded from the operation. Either pass `include_groups=False` to exclude the groupings or explicitly select the grouping columns after groupby to silence this warning.\n",
      "  preds_ds = linking_pred_df[['text', 'entity', 'pred_mkb']].groupby('text').apply(group_case)\n",
      "/tmp/ipykernel_59512/3045859284.py:22: DeprecationWarning: DataFrameGroupBy.apply operated on the grouping columns. This behavior is deprecated, and in a future version of pandas the grouping columns will be excluded from the operation. Either pass `include_groups=False` to exclude the groupings or explicitly select the grouping columns after groupby to silence this warning.\n",
      "  preds_ds = linking_pred_df[['text', 'entity', 'pred_mkb']].groupby('text').apply(group_case)\n",
      "/tmp/ipykernel_59512/3045859284.py:22: DeprecationWarning: DataFrameGroupBy.apply operated on the grouping columns. This behavior is deprecated, and in a future version of pandas the grouping columns will be excluded from the operation. Either pass `include_groups=False` to exclude the groupings or explicitly select the grouping columns after groupby to silence this warning.\n",
      "  preds_ds = linking_pred_df[['text', 'entity', 'pred_mkb']].groupby('text').apply(group_case)\n",
      "/tmp/ipykernel_59512/3045859284.py:22: DeprecationWarning: DataFrameGroupBy.apply operated on the grouping columns. This behavior is deprecated, and in a future version of pandas the grouping columns will be excluded from the operation. Either pass `include_groups=False` to exclude the groupings or explicitly select the grouping columns after groupby to silence this warning.\n",
      "  preds_ds = linking_pred_df[['text', 'entity', 'pred_mkb']].groupby('text').apply(group_case)\n"
     ]
    }
   ],
   "source": [
    "for retrieval_ds_path, preds_ds_path, save_path in tqdm(preds_paths):\n",
    "    save_model_predicts(retrieval_ds_path, preds_ds_path, save_path, text_to_idx, mkb2idx)"
   ]
  },
  {
   "cell_type": "code",
   "execution_count": null,
   "metadata": {},
   "outputs": [],
   "source": []
  }
 ],
 "metadata": {
  "kernelspec": {
   "display_name": "automkb_env",
   "language": "python",
   "name": "python3"
  },
  "language_info": {
   "codemirror_mode": {
    "name": "ipython",
    "version": 3
   },
   "file_extension": ".py",
   "mimetype": "text/x-python",
   "name": "python",
   "nbconvert_exporter": "python",
   "pygments_lexer": "ipython3",
   "version": "3.11.10"
  }
 },
 "nbformat": 4,
 "nbformat_minor": 2
}
