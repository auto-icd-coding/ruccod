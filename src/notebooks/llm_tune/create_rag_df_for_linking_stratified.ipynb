{
 "cells": [
  {
   "cell_type": "code",
   "execution_count": null,
   "metadata": {},
   "outputs": [],
   "source": [
    "import os, sys\n",
    "\n",
    "BASE_PATH = ''\n",
    "\n",
    "os.chdir(BASE_PATH)"
   ]
  },
  {
   "cell_type": "code",
   "execution_count": 2,
   "metadata": {},
   "outputs": [],
   "source": [
    "import faiss\n",
    "import yaml\n",
    "import numpy as np\n",
    "import pandas as pd\n",
    "from tqdm.notebook import tqdm"
   ]
  },
  {
   "cell_type": "code",
   "execution_count": 3,
   "metadata": {},
   "outputs": [
    {
     "data": {
      "text/plain": [
       "(17762, 17762)"
      ]
     },
     "execution_count": 3,
     "metadata": {},
     "output_type": "execute_result"
    }
   ],
   "source": [
    "with open('data/mkb2descr_new.yaml', 'r') as f:\n",
    "    mkb2descr = yaml.safe_load(f)\n",
    "descr2mkb = {f'{v} - {k}': k for k, v in mkb2descr.items()}\n",
    "len(mkb2descr), len(descr2mkb)"
   ]
  },
  {
   "cell_type": "code",
   "execution_count": null,
   "metadata": {},
   "outputs": [],
   "source": []
  },
  {
   "cell_type": "code",
   "execution_count": 4,
   "metadata": {},
   "outputs": [
    {
     "name": "stdout",
     "output_type": "stream",
     "text": [
      "(3000, 5) (500, 5)\n"
     ]
    },
    {
     "data": {
      "text/html": [
       "<div>\n",
       "<style scoped>\n",
       "    .dataframe tbody tr th:only-of-type {\n",
       "        vertical-align: middle;\n",
       "    }\n",
       "\n",
       "    .dataframe tbody tr th {\n",
       "        vertical-align: top;\n",
       "    }\n",
       "\n",
       "    .dataframe thead th {\n",
       "        text-align: right;\n",
       "    }\n",
       "</style>\n",
       "<table border=\"1\" class=\"dataframe\">\n",
       "  <thead>\n",
       "    <tr style=\"text-align: right;\">\n",
       "      <th></th>\n",
       "      <th>text</th>\n",
       "      <th>text_labels</th>\n",
       "      <th>labled_entities</th>\n",
       "      <th>mkb_texts</th>\n",
       "      <th>mkb_codes</th>\n",
       "    </tr>\n",
       "  </thead>\n",
       "  <tbody>\n",
       "    <tr>\n",
       "      <th>0</th>\n",
       "      <td>Эндоцервикоз. Хронический сальпингит и оофорит...</td>\n",
       "      <td>&lt;mkb code=N88.8&gt;Эндоцервикоз&lt;/mkb&gt;. &lt;mkb code=...</td>\n",
       "      <td>&lt;mkb&gt;Эндоцервикоз&lt;/mkb&gt;. &lt;mkb&gt;Хронический саль...</td>\n",
       "      <td>[Эндоцервикоз, Хронический сальпингит и оофори...</td>\n",
       "      <td>[N88.8, N70.1, N73.6]</td>\n",
       "    </tr>\n",
       "    <tr>\n",
       "      <th>1</th>\n",
       "      <td>Ожирение 3 степени, смешанного генеза</td>\n",
       "      <td>&lt;mkb code=E66.9&gt;Ожирение &lt;/mkb&gt;3 степени, смеш...</td>\n",
       "      <td>&lt;mkb&gt;Ожирение &lt;/mkb&gt;3 степени, смешанного генеза</td>\n",
       "      <td>[Ожирение ]</td>\n",
       "      <td>[E66.9]</td>\n",
       "    </tr>\n",
       "    <tr>\n",
       "      <th>2</th>\n",
       "      <td>Полип цервикального канала. Эрозия шейки матки.</td>\n",
       "      <td>&lt;mkb code=N84.1&gt;Полип цервикального канала.&lt;/m...</td>\n",
       "      <td>&lt;mkb&gt;Полип цервикального канала.&lt;/mkb&gt; &lt;mkb&gt;Эр...</td>\n",
       "      <td>[Полип цервикального канала., Эрозия шейки матки]</td>\n",
       "      <td>[N84.1, N87]</td>\n",
       "    </tr>\n",
       "    <tr>\n",
       "      <th>3</th>\n",
       "      <td>Гастроэнтероколит. предположительно инф. этиол...</td>\n",
       "      <td>&lt;mkb code=A09&gt;Гастроэнтероколит. предположител...</td>\n",
       "      <td>&lt;mkb&gt;Гастроэнтероколит. предположительно инф. ...</td>\n",
       "      <td>[Гастроэнтероколит. предположительно инф. этио...</td>\n",
       "      <td>[A09]</td>\n",
       "    </tr>\n",
       "    <tr>\n",
       "      <th>4</th>\n",
       "      <td>острый катаральный фронтит</td>\n",
       "      <td>&lt;mkb code=J01.1&gt;острый катаральный фронтит&lt;/mkb&gt;</td>\n",
       "      <td>&lt;mkb&gt;острый катаральный фронтит&lt;/mkb&gt;</td>\n",
       "      <td>[острый катаральный фронтит]</td>\n",
       "      <td>[J01.1]</td>\n",
       "    </tr>\n",
       "  </tbody>\n",
       "</table>\n",
       "</div>"
      ],
      "text/plain": [
       "                                                text  \\\n",
       "0  Эндоцервикоз. Хронический сальпингит и оофорит...   \n",
       "1              Ожирение 3 степени, смешанного генеза   \n",
       "2    Полип цервикального канала. Эрозия шейки матки.   \n",
       "3  Гастроэнтероколит. предположительно инф. этиол...   \n",
       "4                         острый катаральный фронтит   \n",
       "\n",
       "                                         text_labels  \\\n",
       "0  <mkb code=N88.8>Эндоцервикоз</mkb>. <mkb code=...   \n",
       "1  <mkb code=E66.9>Ожирение </mkb>3 степени, смеш...   \n",
       "2  <mkb code=N84.1>Полип цервикального канала.</m...   \n",
       "3  <mkb code=A09>Гастроэнтероколит. предположител...   \n",
       "4   <mkb code=J01.1>острый катаральный фронтит</mkb>   \n",
       "\n",
       "                                     labled_entities  \\\n",
       "0  <mkb>Эндоцервикоз</mkb>. <mkb>Хронический саль...   \n",
       "1   <mkb>Ожирение </mkb>3 степени, смешанного генеза   \n",
       "2  <mkb>Полип цервикального канала.</mkb> <mkb>Эр...   \n",
       "3  <mkb>Гастроэнтероколит. предположительно инф. ...   \n",
       "4              <mkb>острый катаральный фронтит</mkb>   \n",
       "\n",
       "                                           mkb_texts              mkb_codes  \n",
       "0  [Эндоцервикоз, Хронический сальпингит и оофори...  [N88.8, N70.1, N73.6]  \n",
       "1                                        [Ожирение ]                [E66.9]  \n",
       "2  [Полип цервикального канала., Эрозия шейки матки]           [N84.1, N87]  \n",
       "3  [Гастроэнтероколит. предположительно инф. этио...                  [A09]  \n",
       "4                       [острый катаральный фронтит]                [J01.1]  "
      ]
     },
     "execution_count": 4,
     "metadata": {},
     "output_type": "execute_result"
    }
   ],
   "source": [
    "oper_train_df = pd.read_parquet('data/oper_train_df_v2.parquet')\n",
    "oper_test_df = pd.read_parquet('data/oper_test_df_v2.parquet')\n",
    "print(oper_train_df.shape, oper_test_df.shape)\n",
    "oper_train_df.head()"
   ]
  },
  {
   "cell_type": "code",
   "execution_count": null,
   "metadata": {},
   "outputs": [],
   "source": []
  },
  {
   "cell_type": "code",
   "execution_count": 5,
   "metadata": {},
   "outputs": [
    {
     "data": {
      "text/html": [
       "<div>\n",
       "<style scoped>\n",
       "    .dataframe tbody tr th:only-of-type {\n",
       "        vertical-align: middle;\n",
       "    }\n",
       "\n",
       "    .dataframe tbody tr th {\n",
       "        vertical-align: top;\n",
       "    }\n",
       "\n",
       "    .dataframe thead th {\n",
       "        text-align: right;\n",
       "    }\n",
       "</style>\n",
       "<table border=\"1\" class=\"dataframe\">\n",
       "  <thead>\n",
       "    <tr style=\"text-align: right;\">\n",
       "      <th></th>\n",
       "      <th>mkb_texts</th>\n",
       "      <th>mkb_codes</th>\n",
       "    </tr>\n",
       "  </thead>\n",
       "  <tbody>\n",
       "    <tr>\n",
       "      <th>0</th>\n",
       "      <td>Эндоцервикоз</td>\n",
       "      <td>N88.8</td>\n",
       "    </tr>\n",
       "    <tr>\n",
       "      <th>0</th>\n",
       "      <td>Хронический сальпингит и оофорит</td>\n",
       "      <td>N70.1</td>\n",
       "    </tr>\n",
       "    <tr>\n",
       "      <th>0</th>\n",
       "      <td>Спаечный процесс в малом тазу</td>\n",
       "      <td>N73.6</td>\n",
       "    </tr>\n",
       "    <tr>\n",
       "      <th>1</th>\n",
       "      <td>Ожирение</td>\n",
       "      <td>E66.9</td>\n",
       "    </tr>\n",
       "    <tr>\n",
       "      <th>2</th>\n",
       "      <td>Полип цервикального канала.</td>\n",
       "      <td>N84.1</td>\n",
       "    </tr>\n",
       "  </tbody>\n",
       "</table>\n",
       "</div>"
      ],
      "text/plain": [
       "                          mkb_texts mkb_codes\n",
       "0                      Эндоцервикоз     N88.8\n",
       "0  Хронический сальпингит и оофорит     N70.1\n",
       "0     Спаечный процесс в малом тазу     N73.6\n",
       "1                         Ожирение      E66.9\n",
       "2       Полип цервикального канала.     N84.1"
      ]
     },
     "execution_count": 5,
     "metadata": {},
     "output_type": "execute_result"
    }
   ],
   "source": [
    "oper_mkb_train_df = oper_train_df[['mkb_texts', 'mkb_codes']].explode(['mkb_texts', 'mkb_codes'])\n",
    "oper_mkb_train_df.head()"
   ]
  },
  {
   "cell_type": "code",
   "execution_count": 6,
   "metadata": {},
   "outputs": [
    {
     "data": {
      "text/html": [
       "<div>\n",
       "<style scoped>\n",
       "    .dataframe tbody tr th:only-of-type {\n",
       "        vertical-align: middle;\n",
       "    }\n",
       "\n",
       "    .dataframe tbody tr th {\n",
       "        vertical-align: top;\n",
       "    }\n",
       "\n",
       "    .dataframe thead th {\n",
       "        text-align: right;\n",
       "    }\n",
       "</style>\n",
       "<table border=\"1\" class=\"dataframe\">\n",
       "  <thead>\n",
       "    <tr style=\"text-align: right;\">\n",
       "      <th></th>\n",
       "      <th>mkb_texts</th>\n",
       "      <th>mkb_codes</th>\n",
       "    </tr>\n",
       "  </thead>\n",
       "  <tbody>\n",
       "    <tr>\n",
       "      <th>0</th>\n",
       "      <td>Аднексит</td>\n",
       "      <td>N70.9</td>\n",
       "    </tr>\n",
       "    <tr>\n",
       "      <th>0</th>\n",
       "      <td>Кисты экзоцервикса</td>\n",
       "      <td>N88.8</td>\n",
       "    </tr>\n",
       "    <tr>\n",
       "      <th>1</th>\n",
       "      <td>Гиперандрогени</td>\n",
       "      <td>E28.1</td>\n",
       "    </tr>\n",
       "    <tr>\n",
       "      <th>1</th>\n",
       "      <td>Вагинит</td>\n",
       "      <td>N76.0</td>\n",
       "    </tr>\n",
       "    <tr>\n",
       "      <th>1</th>\n",
       "      <td>сальпингоофорит</td>\n",
       "      <td>N70.1</td>\n",
       "    </tr>\n",
       "  </tbody>\n",
       "</table>\n",
       "</div>"
      ],
      "text/plain": [
       "            mkb_texts mkb_codes\n",
       "0            Аднексит     N70.9\n",
       "0  Кисты экзоцервикса     N88.8\n",
       "1      Гиперандрогени     E28.1\n",
       "1             Вагинит     N76.0\n",
       "1     сальпингоофорит     N70.1"
      ]
     },
     "execution_count": 6,
     "metadata": {},
     "output_type": "execute_result"
    }
   ],
   "source": [
    "oper_mkb_test_df = oper_test_df[['mkb_texts', 'mkb_codes']].explode(['mkb_texts', 'mkb_codes'])\n",
    "oper_mkb_test_df.head()"
   ]
  },
  {
   "cell_type": "code",
   "execution_count": null,
   "metadata": {},
   "outputs": [],
   "source": []
  },
  {
   "cell_type": "code",
   "execution_count": 7,
   "metadata": {},
   "outputs": [
    {
     "data": {
      "text/html": [
       "<div>\n",
       "<style scoped>\n",
       "    .dataframe tbody tr th:only-of-type {\n",
       "        vertical-align: middle;\n",
       "    }\n",
       "\n",
       "    .dataframe tbody tr th {\n",
       "        vertical-align: top;\n",
       "    }\n",
       "\n",
       "    .dataframe thead th {\n",
       "        text-align: right;\n",
       "    }\n",
       "</style>\n",
       "<table border=\"1\" class=\"dataframe\">\n",
       "  <thead>\n",
       "    <tr style=\"text-align: right;\">\n",
       "      <th></th>\n",
       "      <th>text</th>\n",
       "      <th>mkb</th>\n",
       "      <th>emb</th>\n",
       "    </tr>\n",
       "  </thead>\n",
       "  <tbody>\n",
       "    <tr>\n",
       "      <th>0</th>\n",
       "      <td>Коды для использования при отсутствии диагноза...</td>\n",
       "      <td>00</td>\n",
       "      <td>[0.20321438, 0.7739176, 0.43605193, 1.1479815,...</td>\n",
       "    </tr>\n",
       "    <tr>\n",
       "      <th>1</th>\n",
       "      <td>Холера - A00</td>\n",
       "      <td>A00</td>\n",
       "      <td>[0.6391061, 0.5850919, 0.58136743, 1.2119223, ...</td>\n",
       "    </tr>\n",
       "    <tr>\n",
       "      <th>2</th>\n",
       "      <td>КИШЕЧНЫЕ ИНФЕКЦИИ (A00-A09) - A00-A09</td>\n",
       "      <td>A00-A09</td>\n",
       "      <td>[0.8070125, 0.7129453, 0.41063482, 1.2905184, ...</td>\n",
       "    </tr>\n",
       "    <tr>\n",
       "      <th>3</th>\n",
       "      <td>НЕКОТОРЫЕ ИНФЕКЦИОННЫЕ И ПАРАЗИТАРНЫЕ БОЛЕЗНИ ...</td>\n",
       "      <td>A00-B99</td>\n",
       "      <td>[0.7257797, 0.70322335, 0.54525924, 1.0922508,...</td>\n",
       "    </tr>\n",
       "    <tr>\n",
       "      <th>4</th>\n",
       "      <td>Холера, вызванная холерным вибрионом 01, биова...</td>\n",
       "      <td>A00.0</td>\n",
       "      <td>[0.81637913, 0.76124996, 0.8273382, 1.3087286,...</td>\n",
       "    </tr>\n",
       "  </tbody>\n",
       "</table>\n",
       "</div>"
      ],
      "text/plain": [
       "                                                text      mkb  \\\n",
       "0  Коды для использования при отсутствии диагноза...       00   \n",
       "1                                       Холера - A00      A00   \n",
       "2              КИШЕЧНЫЕ ИНФЕКЦИИ (A00-A09) - A00-A09  A00-A09   \n",
       "3  НЕКОТОРЫЕ ИНФЕКЦИОННЫЕ И ПАРАЗИТАРНЫЕ БОЛЕЗНИ ...  A00-B99   \n",
       "4  Холера, вызванная холерным вибрионом 01, биова...    A00.0   \n",
       "\n",
       "                                                 emb  \n",
       "0  [0.20321438, 0.7739176, 0.43605193, 1.1479815,...  \n",
       "1  [0.6391061, 0.5850919, 0.58136743, 1.2119223, ...  \n",
       "2  [0.8070125, 0.7129453, 0.41063482, 1.2905184, ...  \n",
       "3  [0.7257797, 0.70322335, 0.54525924, 1.0922508,...  \n",
       "4  [0.81637913, 0.76124996, 0.8273382, 1.3087286,...  "
      ]
     },
     "execution_count": 7,
     "metadata": {},
     "output_type": "execute_result"
    }
   ],
   "source": [
    "icd_retrieval_df = pd.read_parquet('data/mkb_descr_and_emb_df_bergamot.parquet')\n",
    "icd_retrieval_df.head()"
   ]
  },
  {
   "cell_type": "code",
   "execution_count": 8,
   "metadata": {},
   "outputs": [
    {
     "name": "stdout",
     "output_type": "stream",
     "text": [
      "4517\n"
     ]
    },
    {
     "data": {
      "text/html": [
       "<div>\n",
       "<style scoped>\n",
       "    .dataframe tbody tr th:only-of-type {\n",
       "        vertical-align: middle;\n",
       "    }\n",
       "\n",
       "    .dataframe tbody tr th {\n",
       "        vertical-align: top;\n",
       "    }\n",
       "\n",
       "    .dataframe thead th {\n",
       "        text-align: right;\n",
       "    }\n",
       "</style>\n",
       "<table border=\"1\" class=\"dataframe\">\n",
       "  <thead>\n",
       "    <tr style=\"text-align: right;\">\n",
       "      <th></th>\n",
       "      <th>text</th>\n",
       "      <th>text_without_abbr</th>\n",
       "      <th>mkb</th>\n",
       "      <th>emb</th>\n",
       "    </tr>\n",
       "  </thead>\n",
       "  <tbody>\n",
       "    <tr>\n",
       "      <th>0</th>\n",
       "      <td>Эндоцервикоз</td>\n",
       "      <td>Эндоцервикоз</td>\n",
       "      <td>N88.8</td>\n",
       "      <td>[1.0646714, 0.55818516, 0.25616288, 1.2985225,...</td>\n",
       "    </tr>\n",
       "    <tr>\n",
       "      <th>1</th>\n",
       "      <td>Хронический сальпингит и оофорит</td>\n",
       "      <td>Хронический сальпингит и оофорит</td>\n",
       "      <td>N70.1</td>\n",
       "      <td>[1.0741761, 0.56112343, 0.5924396, 1.4484705, ...</td>\n",
       "    </tr>\n",
       "    <tr>\n",
       "      <th>2</th>\n",
       "      <td>Спаечный процесс в малом тазу</td>\n",
       "      <td>Спаечный процесс в малом тазу</td>\n",
       "      <td>N73.6</td>\n",
       "      <td>[1.0086013, 0.6514759, 0.229128, 0.9506954, -0...</td>\n",
       "    </tr>\n",
       "    <tr>\n",
       "      <th>3</th>\n",
       "      <td>Ожирение</td>\n",
       "      <td>Ожирение</td>\n",
       "      <td>E66.9</td>\n",
       "      <td>[0.9568775, 0.5229445, 0.51183635, 1.3658271, ...</td>\n",
       "    </tr>\n",
       "    <tr>\n",
       "      <th>4</th>\n",
       "      <td>Полип цервикального канала.</td>\n",
       "      <td>Полип цервикального канала.</td>\n",
       "      <td>N84.1</td>\n",
       "      <td>[1.0374979, 0.5656024, 0.47970936, 1.5457002, ...</td>\n",
       "    </tr>\n",
       "  </tbody>\n",
       "</table>\n",
       "</div>"
      ],
      "text/plain": [
       "                               text                 text_without_abbr    mkb  \\\n",
       "0                      Эндоцервикоз                      Эндоцервикоз  N88.8   \n",
       "1  Хронический сальпингит и оофорит  Хронический сальпингит и оофорит  N70.1   \n",
       "2     Спаечный процесс в малом тазу     Спаечный процесс в малом тазу  N73.6   \n",
       "3                         Ожирение                          Ожирение   E66.9   \n",
       "4       Полип цервикального канала.       Полип цервикального канала.  N84.1   \n",
       "\n",
       "                                                 emb  \n",
       "0  [1.0646714, 0.55818516, 0.25616288, 1.2985225,...  \n",
       "1  [1.0741761, 0.56112343, 0.5924396, 1.4484705, ...  \n",
       "2  [1.0086013, 0.6514759, 0.229128, 0.9506954, -0...  \n",
       "3  [0.9568775, 0.5229445, 0.51183635, 1.3658271, ...  \n",
       "4  [1.0374979, 0.5656024, 0.47970936, 1.5457002, ...  "
      ]
     },
     "execution_count": 8,
     "metadata": {},
     "output_type": "execute_result"
    }
   ],
   "source": [
    "train_mkb_texts_and_emb_df = pd.read_parquet('data/train_mkb_texts_and_emb_df_bergamot.parquet')\n",
    "train_mkb_text2emb = train_mkb_texts_and_emb_df.set_index('text')['emb'].to_dict()\n",
    "print(len(train_mkb_text2emb))\n",
    "train_mkb_texts_and_emb_df.head()"
   ]
  },
  {
   "cell_type": "code",
   "execution_count": 9,
   "metadata": {},
   "outputs": [
    {
     "name": "stdout",
     "output_type": "stream",
     "text": [
      "1116\n"
     ]
    },
    {
     "data": {
      "text/html": [
       "<div>\n",
       "<style scoped>\n",
       "    .dataframe tbody tr th:only-of-type {\n",
       "        vertical-align: middle;\n",
       "    }\n",
       "\n",
       "    .dataframe tbody tr th {\n",
       "        vertical-align: top;\n",
       "    }\n",
       "\n",
       "    .dataframe thead th {\n",
       "        text-align: right;\n",
       "    }\n",
       "</style>\n",
       "<table border=\"1\" class=\"dataframe\">\n",
       "  <thead>\n",
       "    <tr style=\"text-align: right;\">\n",
       "      <th></th>\n",
       "      <th>text</th>\n",
       "      <th>text_without_abbr</th>\n",
       "      <th>mkb</th>\n",
       "      <th>emb</th>\n",
       "    </tr>\n",
       "  </thead>\n",
       "  <tbody>\n",
       "    <tr>\n",
       "      <th>0</th>\n",
       "      <td>Аднексит</td>\n",
       "      <td>Аднексит</td>\n",
       "      <td>N70.9</td>\n",
       "      <td>[0.84549487, 0.6559077, 0.57338065, 0.97752774...</td>\n",
       "    </tr>\n",
       "    <tr>\n",
       "      <th>1</th>\n",
       "      <td>Кисты экзоцервикса</td>\n",
       "      <td>Кисты экзоцервикса</td>\n",
       "      <td>N88.8</td>\n",
       "      <td>[1.0207729, 0.64380205, 0.14841671, 1.4028211,...</td>\n",
       "    </tr>\n",
       "    <tr>\n",
       "      <th>2</th>\n",
       "      <td>Гиперандрогени</td>\n",
       "      <td>Гиперандрогени</td>\n",
       "      <td>E28.1</td>\n",
       "      <td>[1.2520971, 0.56747735, 0.34002924, 1.31798, -...</td>\n",
       "    </tr>\n",
       "    <tr>\n",
       "      <th>3</th>\n",
       "      <td>Вагинит</td>\n",
       "      <td>Вагинит</td>\n",
       "      <td>N76.0</td>\n",
       "      <td>[1.1868458, 0.5189025, 0.28673723, 1.3597, -0....</td>\n",
       "    </tr>\n",
       "    <tr>\n",
       "      <th>4</th>\n",
       "      <td>сальпингоофорит</td>\n",
       "      <td>сальпингоофорит</td>\n",
       "      <td>N70.1</td>\n",
       "      <td>[1.1721609, 0.7023772, 0.75886655, 1.4234688, ...</td>\n",
       "    </tr>\n",
       "  </tbody>\n",
       "</table>\n",
       "</div>"
      ],
      "text/plain": [
       "                 text   text_without_abbr    mkb  \\\n",
       "0            Аднексит            Аднексит  N70.9   \n",
       "1  Кисты экзоцервикса  Кисты экзоцервикса  N88.8   \n",
       "2      Гиперандрогени      Гиперандрогени  E28.1   \n",
       "3             Вагинит             Вагинит  N76.0   \n",
       "4     сальпингоофорит     сальпингоофорит  N70.1   \n",
       "\n",
       "                                                 emb  \n",
       "0  [0.84549487, 0.6559077, 0.57338065, 0.97752774...  \n",
       "1  [1.0207729, 0.64380205, 0.14841671, 1.4028211,...  \n",
       "2  [1.2520971, 0.56747735, 0.34002924, 1.31798, -...  \n",
       "3  [1.1868458, 0.5189025, 0.28673723, 1.3597, -0....  \n",
       "4  [1.1721609, 0.7023772, 0.75886655, 1.4234688, ...  "
      ]
     },
     "execution_count": 9,
     "metadata": {},
     "output_type": "execute_result"
    }
   ],
   "source": [
    "test_mkb_texts_and_emb_df = pd.read_parquet('data/test_mkb_texts_and_emb_df_bergamot.parquet')\n",
    "test_mkb_text2emb = test_mkb_texts_and_emb_df.set_index('text')['emb'].to_dict()\n",
    "print(len(test_mkb_text2emb))\n",
    "test_mkb_texts_and_emb_df.head()"
   ]
  },
  {
   "cell_type": "code",
   "execution_count": null,
   "metadata": {},
   "outputs": [],
   "source": []
  },
  {
   "cell_type": "code",
   "execution_count": 10,
   "metadata": {},
   "outputs": [
    {
     "name": "stdout",
     "output_type": "stream",
     "text": [
      "(22279, 3)\n"
     ]
    }
   ],
   "source": [
    "train_and_icd_retrieval_df = pd.concat([\n",
    "    train_mkb_texts_and_emb_df[['text', 'mkb', 'emb']],\n",
    "    icd_retrieval_df[['text', 'mkb', 'emb']]\n",
    "])\n",
    "train_and_icd_retrieval_df = train_and_icd_retrieval_df.drop_duplicates(['text']).reset_index(drop=True)\n",
    "print(train_and_icd_retrieval_df.shape)"
   ]
  },
  {
   "cell_type": "code",
   "execution_count": 11,
   "metadata": {},
   "outputs": [
    {
     "data": {
      "text/html": [
       "<div>\n",
       "<style scoped>\n",
       "    .dataframe tbody tr th:only-of-type {\n",
       "        vertical-align: middle;\n",
       "    }\n",
       "\n",
       "    .dataframe tbody tr th {\n",
       "        vertical-align: top;\n",
       "    }\n",
       "\n",
       "    .dataframe thead th {\n",
       "        text-align: right;\n",
       "    }\n",
       "</style>\n",
       "<table border=\"1\" class=\"dataframe\">\n",
       "  <thead>\n",
       "    <tr style=\"text-align: right;\">\n",
       "      <th></th>\n",
       "      <th>text</th>\n",
       "      <th>mkb</th>\n",
       "      <th>emb</th>\n",
       "    </tr>\n",
       "  </thead>\n",
       "  <tbody>\n",
       "    <tr>\n",
       "      <th>0</th>\n",
       "      <td>Эндоцервикоз</td>\n",
       "      <td>N88.8</td>\n",
       "      <td>[1.0646714, 0.55818516, 0.25616288, 1.2985225,...</td>\n",
       "    </tr>\n",
       "    <tr>\n",
       "      <th>1</th>\n",
       "      <td>Хронический сальпингит и оофорит</td>\n",
       "      <td>N70.1</td>\n",
       "      <td>[1.0741761, 0.56112343, 0.5924396, 1.4484705, ...</td>\n",
       "    </tr>\n",
       "    <tr>\n",
       "      <th>2</th>\n",
       "      <td>Спаечный процесс в малом тазу</td>\n",
       "      <td>N73.6</td>\n",
       "      <td>[1.0086013, 0.6514759, 0.229128, 0.9506954, -0...</td>\n",
       "    </tr>\n",
       "    <tr>\n",
       "      <th>3</th>\n",
       "      <td>Ожирение</td>\n",
       "      <td>E66.9</td>\n",
       "      <td>[0.9568775, 0.5229445, 0.51183635, 1.3658271, ...</td>\n",
       "    </tr>\n",
       "    <tr>\n",
       "      <th>4</th>\n",
       "      <td>Полип цервикального канала.</td>\n",
       "      <td>N84.1</td>\n",
       "      <td>[1.0374979, 0.5656024, 0.47970936, 1.5457002, ...</td>\n",
       "    </tr>\n",
       "    <tr>\n",
       "      <th>...</th>\n",
       "      <td>...</td>\n",
       "      <td>...</td>\n",
       "      <td>...</td>\n",
       "    </tr>\n",
       "    <tr>\n",
       "      <th>22274</th>\n",
       "      <td>Зависимость от почечного диализа - Z99.2</td>\n",
       "      <td>Z99.2</td>\n",
       "      <td>[0.5967582, 0.60067123, 0.5826726, 1.0184367, ...</td>\n",
       "    </tr>\n",
       "    <tr>\n",
       "      <th>22275</th>\n",
       "      <td>Зависимость от кресла на колесах - Z99.3</td>\n",
       "      <td>Z99.3</td>\n",
       "      <td>[1.1073288, 0.5780251, 0.21158911, 0.9499818, ...</td>\n",
       "    </tr>\n",
       "    <tr>\n",
       "      <th>22276</th>\n",
       "      <td>Зависимость от искусственного сердца - Z99.4</td>\n",
       "      <td>Z99.4</td>\n",
       "      <td>[0.81013167, 0.6914784, 0.55219746, 0.90709496...</td>\n",
       "    </tr>\n",
       "    <tr>\n",
       "      <th>22277</th>\n",
       "      <td>Зависимость от других вспомогательных механизм...</td>\n",
       "      <td>Z99.8</td>\n",
       "      <td>[0.70633715, 0.76928276, 0.41433388, 0.768888,...</td>\n",
       "    </tr>\n",
       "    <tr>\n",
       "      <th>22278</th>\n",
       "      <td>Зависимость от поддерживающих жизнедеятельност...</td>\n",
       "      <td>Z99.9</td>\n",
       "      <td>[0.6149899, 0.63422126, 0.35568348, 1.0009248,...</td>\n",
       "    </tr>\n",
       "  </tbody>\n",
       "</table>\n",
       "<p>22279 rows × 3 columns</p>\n",
       "</div>"
      ],
      "text/plain": [
       "                                                    text    mkb  \\\n",
       "0                                           Эндоцервикоз  N88.8   \n",
       "1                       Хронический сальпингит и оофорит  N70.1   \n",
       "2                          Спаечный процесс в малом тазу  N73.6   \n",
       "3                                              Ожирение   E66.9   \n",
       "4                            Полип цервикального канала.  N84.1   \n",
       "...                                                  ...    ...   \n",
       "22274           Зависимость от почечного диализа - Z99.2  Z99.2   \n",
       "22275           Зависимость от кресла на колесах - Z99.3  Z99.3   \n",
       "22276       Зависимость от искусственного сердца - Z99.4  Z99.4   \n",
       "22277  Зависимость от других вспомогательных механизм...  Z99.8   \n",
       "22278  Зависимость от поддерживающих жизнедеятельност...  Z99.9   \n",
       "\n",
       "                                                     emb  \n",
       "0      [1.0646714, 0.55818516, 0.25616288, 1.2985225,...  \n",
       "1      [1.0741761, 0.56112343, 0.5924396, 1.4484705, ...  \n",
       "2      [1.0086013, 0.6514759, 0.229128, 0.9506954, -0...  \n",
       "3      [0.9568775, 0.5229445, 0.51183635, 1.3658271, ...  \n",
       "4      [1.0374979, 0.5656024, 0.47970936, 1.5457002, ...  \n",
       "...                                                  ...  \n",
       "22274  [0.5967582, 0.60067123, 0.5826726, 1.0184367, ...  \n",
       "22275  [1.1073288, 0.5780251, 0.21158911, 0.9499818, ...  \n",
       "22276  [0.81013167, 0.6914784, 0.55219746, 0.90709496...  \n",
       "22277  [0.70633715, 0.76928276, 0.41433388, 0.768888,...  \n",
       "22278  [0.6149899, 0.63422126, 0.35568348, 1.0009248,...  \n",
       "\n",
       "[22279 rows x 3 columns]"
      ]
     },
     "execution_count": 11,
     "metadata": {},
     "output_type": "execute_result"
    }
   ],
   "source": [
    "train_and_icd_retrieval_df"
   ]
  },
  {
   "cell_type": "code",
   "execution_count": null,
   "metadata": {},
   "outputs": [],
   "source": []
  },
  {
   "cell_type": "code",
   "execution_count": 12,
   "metadata": {},
   "outputs": [],
   "source": [
    "icd_retrieval_embeddings = np.vstack(icd_retrieval_df['emb'].to_list())\n",
    "icd_retrieval_dimension = icd_retrieval_embeddings.shape[1]\n",
    "icd_retrieval_index = faiss.IndexFlatL2(icd_retrieval_dimension)\n",
    "icd_retrieval_index.add(icd_retrieval_embeddings)"
   ]
  },
  {
   "cell_type": "code",
   "execution_count": 13,
   "metadata": {},
   "outputs": [],
   "source": [
    "train_and_icd_retrieval_embeddings = np.vstack(train_and_icd_retrieval_df['emb'].to_list())\n",
    "train_and_icd_retrieval_dimension = train_and_icd_retrieval_embeddings.shape[1]\n",
    "train_and_icd_retrieval_index = faiss.IndexFlatL2(train_and_icd_retrieval_dimension)\n",
    "train_and_icd_retrieval_index.add(train_and_icd_retrieval_embeddings)"
   ]
  },
  {
   "cell_type": "code",
   "execution_count": null,
   "metadata": {},
   "outputs": [],
   "source": []
  },
  {
   "cell_type": "code",
   "execution_count": 14,
   "metadata": {},
   "outputs": [],
   "source": [
    "def create_oper_retrieval_df(\n",
    "        initial_df,\n",
    "        initial_embs,\n",
    "        retrieval_df,\n",
    "        retrieval_index,\n",
    "        n\n",
    "    ):\n",
    "    oper_retrieval_ds = []\n",
    "    for mkb_text, mkb in tqdm(initial_df.to_records(index=False)):\n",
    "        if isinstance(mkb_text, str):\n",
    "            text_emb = initial_embs[mkb_text]\n",
    "        else:\n",
    "            continue\n",
    "        _, idxs = retrieval_index.search(np.expand_dims(text_emb, axis=0), n)\n",
    "        founded_records = retrieval_df.iloc[idxs[0].tolist()]\n",
    "        \n",
    "        if mkb not in founded_records['mkb'].to_list():\n",
    "            mkb = founded_records['mkb'].to_list()[0]\n",
    "\n",
    "        founded_records = founded_records.sample(frac=1)\n",
    "        founded_descr = founded_records['text'].to_list()\n",
    "        founded_mkbs = founded_records['mkb'].to_list()\n",
    "        label = founded_mkbs.index(mkb)\n",
    "\n",
    "        oper_retrieval_ds.append({\n",
    "            'mkb_text': mkb_text,\n",
    "            'founded_mkb_descriptions': founded_descr,\n",
    "            'label': label\n",
    "        })\n",
    "\n",
    "    return pd.DataFrame(oper_retrieval_ds)"
   ]
  },
  {
   "cell_type": "code",
   "execution_count": 15,
   "metadata": {},
   "outputs": [
    {
     "data": {
      "application/vnd.jupyter.widget-view+json": {
       "model_id": "a027fb3014e74e0cbd5ba4ba962e43f9",
       "version_major": 2,
       "version_minor": 0
      },
      "text/plain": [
       "  0%|          | 0/8383 [00:00<?, ?it/s]"
      ]
     },
     "metadata": {},
     "output_type": "display_data"
    },
    {
     "data": {
      "text/plain": [
       "label\n",
       "0     576\n",
       "7     573\n",
       "5     571\n",
       "3     569\n",
       "13    568\n",
       "12    567\n",
       "8     566\n",
       "1     560\n",
       "2     558\n",
       "4     552\n",
       "10    551\n",
       "9     548\n",
       "11    539\n",
       "14    538\n",
       "6     518\n",
       "Name: count, dtype: int64"
      ]
     },
     "execution_count": 15,
     "metadata": {},
     "output_type": "execute_result"
    }
   ],
   "source": [
    "train_icd_retrieval_df = create_oper_retrieval_df(\n",
    "    oper_mkb_train_df, train_mkb_text2emb,\n",
    "    icd_retrieval_df, icd_retrieval_index,\n",
    "    15\n",
    ")\n",
    "train_icd_retrieval_df['label'].value_counts()"
   ]
  },
  {
   "cell_type": "code",
   "execution_count": 16,
   "metadata": {},
   "outputs": [
    {
     "data": {
      "application/vnd.jupyter.widget-view+json": {
       "model_id": "d66ec186a34a493bbac6fd5b1f38bbde",
       "version_major": 2,
       "version_minor": 0
      },
      "text/plain": [
       "  0%|          | 0/8383 [00:00<?, ?it/s]"
      ]
     },
     "metadata": {},
     "output_type": "display_data"
    },
    {
     "data": {
      "text/plain": [
       "label\n",
       "0     3146\n",
       "1     1500\n",
       "2      923\n",
       "3      605\n",
       "4      441\n",
       "5      377\n",
       "6      283\n",
       "7      224\n",
       "8      199\n",
       "9      142\n",
       "10     132\n",
       "11     120\n",
       "12      98\n",
       "13      86\n",
       "14      78\n",
       "Name: count, dtype: int64"
      ]
     },
     "execution_count": 16,
     "metadata": {},
     "output_type": "execute_result"
    }
   ],
   "source": [
    "train_tr_and_icd_retrieval_df = create_oper_retrieval_df(\n",
    "    oper_mkb_train_df, train_mkb_text2emb,\n",
    "    train_and_icd_retrieval_df, train_and_icd_retrieval_index,\n",
    "    15\n",
    ")\n",
    "train_tr_and_icd_retrieval_df['label'].value_counts()"
   ]
  },
  {
   "cell_type": "code",
   "execution_count": null,
   "metadata": {},
   "outputs": [],
   "source": []
  },
  {
   "cell_type": "code",
   "execution_count": 17,
   "metadata": {},
   "outputs": [
    {
     "data": {
      "application/vnd.jupyter.widget-view+json": {
       "model_id": "73df1936d1794d8aa53a5f3e7062deb0",
       "version_major": 2,
       "version_minor": 0
      },
      "text/plain": [
       "  0%|          | 0/1513 [00:00<?, ?it/s]"
      ]
     },
     "metadata": {},
     "output_type": "display_data"
    },
    {
     "data": {
      "text/plain": [
       "label\n",
       "5     122\n",
       "4     115\n",
       "1     112\n",
       "12    108\n",
       "14    108\n",
       "11    106\n",
       "3     103\n",
       "13    101\n",
       "2      96\n",
       "7      96\n",
       "6      95\n",
       "0      94\n",
       "8      87\n",
       "10     87\n",
       "9      81\n",
       "Name: count, dtype: int64"
      ]
     },
     "execution_count": 17,
     "metadata": {},
     "output_type": "execute_result"
    }
   ],
   "source": [
    "test_icd_retrieval_df = create_oper_retrieval_df(\n",
    "    oper_mkb_test_df, test_mkb_text2emb,\n",
    "    icd_retrieval_df, icd_retrieval_index,\n",
    "    15\n",
    ")\n",
    "test_icd_retrieval_df['label'].value_counts()"
   ]
  },
  {
   "cell_type": "code",
   "execution_count": 18,
   "metadata": {},
   "outputs": [
    {
     "data": {
      "application/vnd.jupyter.widget-view+json": {
       "model_id": "9f623e8e580c401bb3e880b1452c8da0",
       "version_major": 2,
       "version_minor": 0
      },
      "text/plain": [
       "  0%|          | 0/1513 [00:00<?, ?it/s]"
      ]
     },
     "metadata": {},
     "output_type": "display_data"
    },
    {
     "data": {
      "text/plain": [
       "label\n",
       "0     539\n",
       "1     261\n",
       "2     175\n",
       "3     115\n",
       "4      82\n",
       "5      59\n",
       "6      45\n",
       "7      43\n",
       "8      42\n",
       "11     37\n",
       "10     27\n",
       "9      27\n",
       "12     21\n",
       "14     20\n",
       "13     18\n",
       "Name: count, dtype: int64"
      ]
     },
     "execution_count": 18,
     "metadata": {},
     "output_type": "execute_result"
    }
   ],
   "source": [
    "test_tr_and_icd_retrieval_df = create_oper_retrieval_df(\n",
    "    oper_mkb_test_df, test_mkb_text2emb,\n",
    "    train_and_icd_retrieval_df, train_and_icd_retrieval_index,\n",
    "    15\n",
    ")\n",
    "test_tr_and_icd_retrieval_df['label'].value_counts()"
   ]
  },
  {
   "cell_type": "code",
   "execution_count": null,
   "metadata": {},
   "outputs": [],
   "source": []
  },
  {
   "cell_type": "code",
   "execution_count": 19,
   "metadata": {},
   "outputs": [],
   "source": [
    "#train_icd_retrieval_df.to_parquet('data/retrieval_ds/train_icd_retrieval_df_stratified.parquet')\n",
    "#test_icd_retrieval_df.to_parquet('data/retrieval_ds/test_icd_retrieval_df_stratified.parquet')\n",
    "\n",
    "train_icd_retrieval_df.to_parquet('data/retrieval_ds/train_icd_retrieval_df_stratified_bergamot.parquet')\n",
    "test_icd_retrieval_df.to_parquet('data/retrieval_ds/test_icd_retrieval_df_stratified_bergamot.parquet')"
   ]
  },
  {
   "cell_type": "code",
   "execution_count": 20,
   "metadata": {},
   "outputs": [],
   "source": [
    "#train_tr_and_icd_retrieval_df.to_parquet('data/retrieval_ds/train_tr_and_icd_retrieval_df_stratified.parquet')\n",
    "#test_tr_and_icd_retrieval_df.to_parquet('data/retrieval_ds/test_tr_and_icd_retrieval_df_stratified.parquet')\n",
    "\n",
    "train_icd_retrieval_df.to_parquet('data/retrieval_ds/train_icd_retrieval_df_stratified_bergamot.parquet')\n",
    "test_icd_retrieval_df.to_parquet('data/retrieval_ds/test_icd_retrieval_df_stratified_bergamot.parquet')"
   ]
  },
  {
   "cell_type": "code",
   "execution_count": null,
   "metadata": {},
   "outputs": [],
   "source": []
  }
 ],
 "metadata": {
  "kernelspec": {
   "display_name": "automkb_env",
   "language": "python",
   "name": "python3"
  },
  "language_info": {
   "codemirror_mode": {
    "name": "ipython",
    "version": 3
   },
   "file_extension": ".py",
   "mimetype": "text/x-python",
   "name": "python",
   "nbconvert_exporter": "python",
   "pygments_lexer": "ipython3",
   "version": "3.11.10"
  }
 },
 "nbformat": 4,
 "nbformat_minor": 2
}
