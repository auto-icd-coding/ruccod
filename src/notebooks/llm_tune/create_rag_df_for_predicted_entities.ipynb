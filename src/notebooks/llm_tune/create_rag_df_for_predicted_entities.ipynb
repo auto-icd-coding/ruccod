{
 "cells": [
  {
   "cell_type": "code",
   "execution_count": null,
   "metadata": {},
   "outputs": [],
   "source": [
    "import os, sys\n",
    "\n",
    "BASE_PATH = ''\n",
    "\n",
    "os.chdir(BASE_PATH)"
   ]
  },
  {
   "cell_type": "code",
   "execution_count": 19,
   "metadata": {},
   "outputs": [],
   "source": [
    "import re\n",
    "import faiss\n",
    "import yaml\n",
    "import numpy as np\n",
    "import pandas as pd\n",
    "from tqdm.notebook import tqdm\n",
    "from FlagEmbedding import BGEM3FlagModel"
   ]
  },
  {
   "cell_type": "code",
   "execution_count": null,
   "metadata": {},
   "outputs": [],
   "source": []
  },
  {
   "cell_type": "code",
   "execution_count": 26,
   "metadata": {},
   "outputs": [
    {
     "data": {
      "text/plain": [
       "4506"
      ]
     },
     "execution_count": 26,
     "metadata": {},
     "output_type": "execute_result"
    }
   ],
   "source": [
    "with open('data/abbr2term.yaml', 'r') as f:\n",
    "    abbr2term = yaml.safe_load(f)\n",
    "len(abbr2term)"
   ]
  },
  {
   "cell_type": "code",
   "execution_count": 3,
   "metadata": {},
   "outputs": [
    {
     "data": {
      "text/plain": [
       "(17762, 17762)"
      ]
     },
     "execution_count": 3,
     "metadata": {},
     "output_type": "execute_result"
    }
   ],
   "source": [
    "with open('data/mkb2descr_new.yaml', 'r') as f:\n",
    "    mkb2descr = yaml.safe_load(f)\n",
    "descr2mkb = {f'{v} - {k}': k for k, v in mkb2descr.items()}\n",
    "len(mkb2descr), len(descr2mkb)"
   ]
  },
  {
   "cell_type": "code",
   "execution_count": 16,
   "metadata": {},
   "outputs": [
    {
     "data": {
      "application/vnd.jupyter.widget-view+json": {
       "model_id": "d7d54bc04e064ad682c9d4abb8b90077",
       "version_major": 2,
       "version_minor": 0
      },
      "text/plain": [
       "Fetching 30 files:   0%|          | 0/30 [00:00<?, ?it/s]"
      ]
     },
     "metadata": {},
     "output_type": "display_data"
    }
   ],
   "source": [
    "embedder = BGEM3FlagModel('BAAI/bge-m3', use_fp16=True)"
   ]
  },
  {
   "cell_type": "code",
   "execution_count": null,
   "metadata": {},
   "outputs": [],
   "source": []
  },
  {
   "cell_type": "code",
   "execution_count": 10,
   "metadata": {},
   "outputs": [
    {
     "data": {
      "text/html": [
       "<div>\n",
       "<style scoped>\n",
       "    .dataframe tbody tr th:only-of-type {\n",
       "        vertical-align: middle;\n",
       "    }\n",
       "\n",
       "    .dataframe tbody tr th {\n",
       "        vertical-align: top;\n",
       "    }\n",
       "\n",
       "    .dataframe thead th {\n",
       "        text-align: right;\n",
       "    }\n",
       "</style>\n",
       "<table border=\"1\" class=\"dataframe\">\n",
       "  <thead>\n",
       "    <tr style=\"text-align: right;\">\n",
       "      <th></th>\n",
       "      <th>text</th>\n",
       "      <th>mkb</th>\n",
       "      <th>emb</th>\n",
       "    </tr>\n",
       "  </thead>\n",
       "  <tbody>\n",
       "    <tr>\n",
       "      <th>0</th>\n",
       "      <td>Коды для использования при отсутствии диагноза...</td>\n",
       "      <td>00</td>\n",
       "      <td>[-0.03753662109375, -0.0203399658203125, -0.06...</td>\n",
       "    </tr>\n",
       "    <tr>\n",
       "      <th>1</th>\n",
       "      <td>Холера - A00</td>\n",
       "      <td>A00</td>\n",
       "      <td>[0.0167694091796875, 0.006465911865234375, -0....</td>\n",
       "    </tr>\n",
       "    <tr>\n",
       "      <th>2</th>\n",
       "      <td>КИШЕЧНЫЕ ИНФЕКЦИИ (A00-A09) - A00-A09</td>\n",
       "      <td>A00-A09</td>\n",
       "      <td>[-0.0097808837890625, 0.002227783203125, -0.05...</td>\n",
       "    </tr>\n",
       "    <tr>\n",
       "      <th>3</th>\n",
       "      <td>НЕКОТОРЫЕ ИНФЕКЦИОННЫЕ И ПАРАЗИТАРНЫЕ БОЛЕЗНИ ...</td>\n",
       "      <td>A00-B99</td>\n",
       "      <td>[0.038055419921875, 0.0011386871337890625, -0....</td>\n",
       "    </tr>\n",
       "    <tr>\n",
       "      <th>4</th>\n",
       "      <td>Холера, вызванная холерным вибрионом 01, биова...</td>\n",
       "      <td>A00.0</td>\n",
       "      <td>[0.00910186767578125, -0.004512786865234375, -...</td>\n",
       "    </tr>\n",
       "  </tbody>\n",
       "</table>\n",
       "</div>"
      ],
      "text/plain": [
       "                                                text      mkb  \\\n",
       "0  Коды для использования при отсутствии диагноза...       00   \n",
       "1                                       Холера - A00      A00   \n",
       "2              КИШЕЧНЫЕ ИНФЕКЦИИ (A00-A09) - A00-A09  A00-A09   \n",
       "3  НЕКОТОРЫЕ ИНФЕКЦИОННЫЕ И ПАРАЗИТАРНЫЕ БОЛЕЗНИ ...  A00-B99   \n",
       "4  Холера, вызванная холерным вибрионом 01, биова...    A00.0   \n",
       "\n",
       "                                                 emb  \n",
       "0  [-0.03753662109375, -0.0203399658203125, -0.06...  \n",
       "1  [0.0167694091796875, 0.006465911865234375, -0....  \n",
       "2  [-0.0097808837890625, 0.002227783203125, -0.05...  \n",
       "3  [0.038055419921875, 0.0011386871337890625, -0....  \n",
       "4  [0.00910186767578125, -0.004512786865234375, -...  "
      ]
     },
     "execution_count": 10,
     "metadata": {},
     "output_type": "execute_result"
    }
   ],
   "source": [
    "icd_retrieval_df = pd.read_parquet('data/mkb_descr_and_emb_df.parquet')\n",
    "icd_retrieval_df.head()"
   ]
  },
  {
   "cell_type": "code",
   "execution_count": 11,
   "metadata": {},
   "outputs": [
    {
     "name": "stdout",
     "output_type": "stream",
     "text": [
      "4517\n"
     ]
    },
    {
     "data": {
      "text/html": [
       "<div>\n",
       "<style scoped>\n",
       "    .dataframe tbody tr th:only-of-type {\n",
       "        vertical-align: middle;\n",
       "    }\n",
       "\n",
       "    .dataframe tbody tr th {\n",
       "        vertical-align: top;\n",
       "    }\n",
       "\n",
       "    .dataframe thead th {\n",
       "        text-align: right;\n",
       "    }\n",
       "</style>\n",
       "<table border=\"1\" class=\"dataframe\">\n",
       "  <thead>\n",
       "    <tr style=\"text-align: right;\">\n",
       "      <th></th>\n",
       "      <th>text</th>\n",
       "      <th>text_without_abbr</th>\n",
       "      <th>mkb</th>\n",
       "      <th>emb</th>\n",
       "    </tr>\n",
       "  </thead>\n",
       "  <tbody>\n",
       "    <tr>\n",
       "      <th>0</th>\n",
       "      <td>Эндоцервикоз</td>\n",
       "      <td>Эндоцервикоз</td>\n",
       "      <td>N88.8</td>\n",
       "      <td>[-0.025390625, 0.06640625, -0.011138916015625,...</td>\n",
       "    </tr>\n",
       "    <tr>\n",
       "      <th>1</th>\n",
       "      <td>Хронический сальпингит и оофорит</td>\n",
       "      <td>Хронический сальпингит и оофорит</td>\n",
       "      <td>N70.1</td>\n",
       "      <td>[-0.04779052734375, 0.01415252685546875, -0.05...</td>\n",
       "    </tr>\n",
       "    <tr>\n",
       "      <th>2</th>\n",
       "      <td>Спаечный процесс в малом тазу</td>\n",
       "      <td>Спаечный процесс в малом тазу</td>\n",
       "      <td>N73.6</td>\n",
       "      <td>[0.00469207763671875, 0.0288543701171875, -0.0...</td>\n",
       "    </tr>\n",
       "    <tr>\n",
       "      <th>3</th>\n",
       "      <td>Ожирение</td>\n",
       "      <td>Ожирение</td>\n",
       "      <td>E66.9</td>\n",
       "      <td>[-0.01204681396484375, 0.0248260498046875, -0....</td>\n",
       "    </tr>\n",
       "    <tr>\n",
       "      <th>4</th>\n",
       "      <td>Полип цервикального канала.</td>\n",
       "      <td>Полип цервикального канала.</td>\n",
       "      <td>N84.1</td>\n",
       "      <td>[-0.054534912109375, 0.0253448486328125, -0.04...</td>\n",
       "    </tr>\n",
       "  </tbody>\n",
       "</table>\n",
       "</div>"
      ],
      "text/plain": [
       "                               text                 text_without_abbr    mkb  \\\n",
       "0                      Эндоцервикоз                      Эндоцервикоз  N88.8   \n",
       "1  Хронический сальпингит и оофорит  Хронический сальпингит и оофорит  N70.1   \n",
       "2     Спаечный процесс в малом тазу     Спаечный процесс в малом тазу  N73.6   \n",
       "3                         Ожирение                          Ожирение   E66.9   \n",
       "4       Полип цервикального канала.       Полип цервикального канала.  N84.1   \n",
       "\n",
       "                                                 emb  \n",
       "0  [-0.025390625, 0.06640625, -0.011138916015625,...  \n",
       "1  [-0.04779052734375, 0.01415252685546875, -0.05...  \n",
       "2  [0.00469207763671875, 0.0288543701171875, -0.0...  \n",
       "3  [-0.01204681396484375, 0.0248260498046875, -0....  \n",
       "4  [-0.054534912109375, 0.0253448486328125, -0.04...  "
      ]
     },
     "execution_count": 11,
     "metadata": {},
     "output_type": "execute_result"
    }
   ],
   "source": [
    "train_mkb_texts_and_emb_df = pd.read_parquet('data/train_mkb_texts_and_emb_df.parquet')\n",
    "train_mkb_text2emb = train_mkb_texts_and_emb_df.set_index('text')['emb'].to_dict()\n",
    "print(len(train_mkb_text2emb))\n",
    "train_mkb_texts_and_emb_df.head()"
   ]
  },
  {
   "cell_type": "code",
   "execution_count": null,
   "metadata": {},
   "outputs": [],
   "source": []
  },
  {
   "cell_type": "code",
   "execution_count": 12,
   "metadata": {},
   "outputs": [
    {
     "name": "stdout",
     "output_type": "stream",
     "text": [
      "(26116, 3)\n"
     ]
    }
   ],
   "source": [
    "train_and_icd_retrieval_df = pd.concat([\n",
    "    train_mkb_texts_and_emb_df[['text', 'mkb', 'emb']],\n",
    "    icd_retrieval_df[['text', 'mkb', 'emb']]\n",
    "])\n",
    "print(train_and_icd_retrieval_df.shape)"
   ]
  },
  {
   "cell_type": "code",
   "execution_count": null,
   "metadata": {},
   "outputs": [],
   "source": []
  },
  {
   "cell_type": "code",
   "execution_count": 13,
   "metadata": {},
   "outputs": [],
   "source": [
    "icd_retrieval_embeddings = np.vstack(icd_retrieval_df['emb'].to_list())\n",
    "icd_retrieval_dimension = icd_retrieval_embeddings.shape[1]\n",
    "icd_retrieval_index = faiss.IndexFlatL2(icd_retrieval_dimension)\n",
    "icd_retrieval_index.add(icd_retrieval_embeddings)"
   ]
  },
  {
   "cell_type": "code",
   "execution_count": 14,
   "metadata": {},
   "outputs": [],
   "source": [
    "train_and_icd_retrieval_embeddings = np.vstack(train_and_icd_retrieval_df['emb'].to_list())\n",
    "train_and_icd_retrieval_dimension = train_and_icd_retrieval_embeddings.shape[1]\n",
    "train_and_icd_retrieval_index = faiss.IndexFlatL2(train_and_icd_retrieval_dimension)\n",
    "train_and_icd_retrieval_index.add(train_and_icd_retrieval_embeddings)"
   ]
  },
  {
   "cell_type": "code",
   "execution_count": null,
   "metadata": {},
   "outputs": [],
   "source": []
  },
  {
   "cell_type": "code",
   "execution_count": 20,
   "metadata": {},
   "outputs": [],
   "source": [
    "def convert_string_to_list(s):\n",
    "    # Удаляем внешние квадратные скобки и разделяем элементы по кавычкам и запятым\n",
    "    elements = re.findall(r\"'([^']*)'\", s)\n",
    "    return elements\n",
    "\n",
    "def load_oper_df(df_path):\n",
    "    pred_df = pd.read_parquet(df_path)\n",
    "    pred_df['predicted_entities'] = pred_df['predicted_entities'].apply(convert_string_to_list)\n",
    "    oper_pred_df = pred_df.explode('predicted_entities')\n",
    "    return oper_pred_df"
   ]
  },
  {
   "cell_type": "code",
   "execution_count": 27,
   "metadata": {},
   "outputs": [],
   "source": [
    "def ABBREV_to_term(text: str, abbr2term: dict) -> str:\n",
    "    \"\"\" Метод осуществляющий поиск и замену аббревиатур в строке на их расшифровки.\n",
    "    На вход получает текст, возвращает текст с расшифрованными аббревиатурами\n",
    "    \"\"\"\n",
    "    abbr_pattern = r'\\b[А-Я]{2,8}\\b'\n",
    "    abbrs = re.findall(abbr_pattern, text)\n",
    "    for abbr in abbrs:\n",
    "        if abbr in abbr2term:\n",
    "            text = re.sub(abbr, abbr2term[abbr], text)\n",
    "    return text"
   ]
  },
  {
   "cell_type": "code",
   "execution_count": 28,
   "metadata": {},
   "outputs": [],
   "source": [
    "def create_oper_retrieval_df(\n",
    "        embedder,\n",
    "        initial_df,\n",
    "        retrieval_df,\n",
    "        retrieval_index,\n",
    "        abbr2term,\n",
    "        n\n",
    "    ):\n",
    "    oper_retrieval_ds = []\n",
    "    for text, entity in tqdm(initial_df.to_records(index=False)):\n",
    "        if isinstance(entity, str):\n",
    "            text_emb = embedder.encode(ABBREV_to_term(entity, abbr2term))['dense_vecs']\n",
    "        else:\n",
    "            continue\n",
    "        _, idxs = retrieval_index.search(np.expand_dims(text_emb, axis=0), n)\n",
    "        founded_records = retrieval_df.iloc[idxs[0].tolist()]\n",
    "        founded_descr = founded_records['text'].to_list()\n",
    "        founded_mkbs = founded_records['mkb'].to_list()\n",
    "\n",
    "        oper_retrieval_ds.append({\n",
    "            'initial_text': text,\n",
    "            'mkb_text': entity,\n",
    "            'founded_mkb_descriptions': founded_descr,\n",
    "            'founded_mkbs': founded_mkbs,\n",
    "            'label': 0\n",
    "        })\n",
    "\n",
    "    return pd.DataFrame(oper_retrieval_ds)"
   ]
  },
  {
   "cell_type": "code",
   "execution_count": null,
   "metadata": {},
   "outputs": [],
   "source": []
  },
  {
   "cell_type": "code",
   "execution_count": 29,
   "metadata": {},
   "outputs": [
    {
     "data": {
      "application/vnd.jupyter.widget-view+json": {
       "model_id": "921984694f634c679134b2cf320cb623",
       "version_major": 2,
       "version_minor": 0
      },
      "text/plain": [
       "  0%|          | 0/1553 [00:00<?, ?it/s]"
      ]
     },
     "metadata": {},
     "output_type": "display_data"
    }
   ],
   "source": [
    "llama3_icd_retrieval_df = create_oper_retrieval_df(\n",
    "    embedder,\n",
    "    load_oper_df('results/preds/ner_preds/m42-health/Llama3-Med42-8B/v_0.parquet'),\n",
    "    icd_retrieval_df,\n",
    "    icd_retrieval_index,\n",
    "    abbr2term,\n",
    "    15\n",
    ")"
   ]
  },
  {
   "cell_type": "code",
   "execution_count": 32,
   "metadata": {},
   "outputs": [
    {
     "data": {
      "application/vnd.jupyter.widget-view+json": {
       "model_id": "339a417df2c240e580d7111cbc147d74",
       "version_major": 2,
       "version_minor": 0
      },
      "text/plain": [
       "  0%|          | 0/1553 [00:00<?, ?it/s]"
      ]
     },
     "metadata": {},
     "output_type": "display_data"
    }
   ],
   "source": [
    "llama3_tr_and_icd_retrieval_df = create_oper_retrieval_df(\n",
    "    embedder,\n",
    "    load_oper_df('results/preds/ner_preds/m42-health/Llama3-Med42-8B/v_0.parquet'),\n",
    "    train_and_icd_retrieval_df,\n",
    "    train_and_icd_retrieval_index,\n",
    "    abbr2term,\n",
    "    15\n",
    ")"
   ]
  },
  {
   "cell_type": "code",
   "execution_count": null,
   "metadata": {},
   "outputs": [],
   "source": []
  },
  {
   "cell_type": "code",
   "execution_count": 35,
   "metadata": {},
   "outputs": [
    {
     "data": {
      "application/vnd.jupyter.widget-view+json": {
       "model_id": "b4a2d8f607c146de82cb5839d3e810b7",
       "version_major": 2,
       "version_minor": 0
      },
      "text/plain": [
       "  0%|          | 0/1531 [00:00<?, ?it/s]"
      ]
     },
     "metadata": {},
     "output_type": "display_data"
    }
   ],
   "source": [
    "phi3_5_icd_retrieval_df = create_oper_retrieval_df(\n",
    "    embedder,\n",
    "    load_oper_df('results/preds/ner_preds/microsoft/Phi-3.5-mini-instruct/v_0.parquet'),\n",
    "    icd_retrieval_df,\n",
    "    icd_retrieval_index,\n",
    "    abbr2term,\n",
    "    15\n",
    ")"
   ]
  },
  {
   "cell_type": "code",
   "execution_count": 36,
   "metadata": {},
   "outputs": [
    {
     "data": {
      "application/vnd.jupyter.widget-view+json": {
       "model_id": "845ec0efe6fc4098b6a95122415efca2",
       "version_major": 2,
       "version_minor": 0
      },
      "text/plain": [
       "  0%|          | 0/1531 [00:00<?, ?it/s]"
      ]
     },
     "metadata": {},
     "output_type": "display_data"
    }
   ],
   "source": [
    "phi3_5_tr_and_icd_retrieval_df = create_oper_retrieval_df(\n",
    "    embedder,\n",
    "    load_oper_df('results/preds/ner_preds/microsoft/Phi-3.5-mini-instruct/v_0.parquet'),\n",
    "    train_and_icd_retrieval_df,\n",
    "    train_and_icd_retrieval_index,\n",
    "    abbr2term,\n",
    "    15\n",
    ")"
   ]
  },
  {
   "cell_type": "code",
   "execution_count": null,
   "metadata": {},
   "outputs": [],
   "source": []
  },
  {
   "cell_type": "code",
   "execution_count": 37,
   "metadata": {},
   "outputs": [
    {
     "data": {
      "application/vnd.jupyter.widget-view+json": {
       "model_id": "7bee05beda02452b93bfe6f4e1d2a125",
       "version_major": 2,
       "version_minor": 0
      },
      "text/plain": [
       "  0%|          | 0/1505 [00:00<?, ?it/s]"
      ]
     },
     "metadata": {},
     "output_type": "display_data"
    }
   ],
   "source": [
    "mistral_icd_retrieval_df = create_oper_retrieval_df(\n",
    "    embedder,\n",
    "    load_oper_df('results/preds/ner_preds/mistralai/Mistral-Nemo-Instruct-2407/v_0.parquet'),\n",
    "    icd_retrieval_df,\n",
    "    icd_retrieval_index,\n",
    "    abbr2term,\n",
    "    15\n",
    ")"
   ]
  },
  {
   "cell_type": "code",
   "execution_count": 38,
   "metadata": {},
   "outputs": [
    {
     "data": {
      "application/vnd.jupyter.widget-view+json": {
       "model_id": "1dd10276cdc344608e8c1caf3075bc6c",
       "version_major": 2,
       "version_minor": 0
      },
      "text/plain": [
       "  0%|          | 0/1505 [00:00<?, ?it/s]"
      ]
     },
     "metadata": {},
     "output_type": "display_data"
    }
   ],
   "source": [
    "mistral_tr_and_icd_retrieval_df = create_oper_retrieval_df(\n",
    "    embedder,\n",
    "    load_oper_df('results/preds/ner_preds/mistralai/Mistral-Nemo-Instruct-2407/v_0.parquet'),\n",
    "    train_and_icd_retrieval_df,\n",
    "    train_and_icd_retrieval_index,\n",
    "    abbr2term,\n",
    "    15\n",
    ")"
   ]
  },
  {
   "cell_type": "code",
   "execution_count": null,
   "metadata": {},
   "outputs": [],
   "source": []
  },
  {
   "cell_type": "code",
   "execution_count": 39,
   "metadata": {},
   "outputs": [
    {
     "data": {
      "application/vnd.jupyter.widget-view+json": {
       "model_id": "f115c7f384c8471193c8ab5af8554106",
       "version_major": 2,
       "version_minor": 0
      },
      "text/plain": [
       "  0%|          | 0/1589 [00:00<?, ?it/s]"
      ]
     },
     "metadata": {},
     "output_type": "display_data"
    }
   ],
   "source": [
    "qwen_icd_retrieval_df = create_oper_retrieval_df(\n",
    "    embedder,\n",
    "    load_oper_df('results/preds/ner_preds/Qwen/Qwen2.5-7B-Instruct/v_0.parquet'),\n",
    "    icd_retrieval_df,\n",
    "    icd_retrieval_index,\n",
    "    abbr2term,\n",
    "    15\n",
    ")"
   ]
  },
  {
   "cell_type": "code",
   "execution_count": 40,
   "metadata": {},
   "outputs": [
    {
     "data": {
      "application/vnd.jupyter.widget-view+json": {
       "model_id": "005b37c223e848f880117a23e44ceb55",
       "version_major": 2,
       "version_minor": 0
      },
      "text/plain": [
       "  0%|          | 0/1589 [00:00<?, ?it/s]"
      ]
     },
     "metadata": {},
     "output_type": "display_data"
    }
   ],
   "source": [
    "qwen_tr_and_icd_retrieval_df = create_oper_retrieval_df(\n",
    "    embedder,\n",
    "    load_oper_df('results/preds/ner_preds/Qwen/Qwen2.5-7B-Instruct/v_0.parquet'),\n",
    "    train_and_icd_retrieval_df,\n",
    "    train_and_icd_retrieval_index,\n",
    "    abbr2term,\n",
    "    15\n",
    ")"
   ]
  },
  {
   "cell_type": "code",
   "execution_count": null,
   "metadata": {},
   "outputs": [],
   "source": []
  },
  {
   "cell_type": "code",
   "execution_count": 41,
   "metadata": {},
   "outputs": [],
   "source": [
    "llama3_icd_retrieval_df.to_parquet('data/preds_retrieval_ds/llama/icd_retrieval_df.parquet')\n",
    "llama3_tr_and_icd_retrieval_df.to_parquet('data/preds_retrieval_ds/llama/tr_and_icd_retrieval_df.parquet')"
   ]
  },
  {
   "cell_type": "code",
   "execution_count": 42,
   "metadata": {},
   "outputs": [],
   "source": [
    "phi3_5_icd_retrieval_df.to_parquet('data/preds_retrieval_ds/phi/icd_retrieval_df.parquet')\n",
    "phi3_5_tr_and_icd_retrieval_df.to_parquet('data/preds_retrieval_ds/phi/tr_and_icd_retrieval_df.parquet')"
   ]
  },
  {
   "cell_type": "code",
   "execution_count": 43,
   "metadata": {},
   "outputs": [],
   "source": [
    "mistral_icd_retrieval_df.to_parquet('data/preds_retrieval_ds/mistral/icd_retrieval_df.parquet')\n",
    "mistral_tr_and_icd_retrieval_df.to_parquet('data/preds_retrieval_ds/mistral/tr_and_icd_retrieval_df.parquet')"
   ]
  },
  {
   "cell_type": "code",
   "execution_count": 44,
   "metadata": {},
   "outputs": [],
   "source": [
    "qwen_icd_retrieval_df.to_parquet('data/preds_retrieval_ds/qwen/icd_retrieval_df.parquet')\n",
    "qwen_tr_and_icd_retrieval_df.to_parquet('data/preds_retrieval_ds/qwen/tr_and_icd_retrieval_df.parquet')"
   ]
  },
  {
   "cell_type": "code",
   "execution_count": null,
   "metadata": {},
   "outputs": [],
   "source": []
  }
 ],
 "metadata": {
  "kernelspec": {
   "display_name": "automkb_env",
   "language": "python",
   "name": "python3"
  },
  "language_info": {
   "codemirror_mode": {
    "name": "ipython",
    "version": 3
   },
   "file_extension": ".py",
   "mimetype": "text/x-python",
   "name": "python",
   "nbconvert_exporter": "python",
   "pygments_lexer": "ipython3",
   "version": "3.11.10"
  }
 },
 "nbformat": 4,
 "nbformat_minor": 2
}
