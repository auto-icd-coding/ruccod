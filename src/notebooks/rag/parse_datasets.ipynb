{
 "cells": [
  {
   "cell_type": "code",
   "execution_count": 1,
   "metadata": {},
   "outputs": [],
   "source": [
    "from pathlib import Path\n",
    "import pandas as pd\n",
    "import shutil\n",
    "import yaml\n",
    "\n",
    "from utils import (\n",
    "    parse_ann_files,\n",
    "    save_json,\n",
    ")\n",
    "\n",
    "DATASETS_DIR = Path(\"./datasets\")"
   ]
  },
  {
   "cell_type": "markdown",
   "metadata": {},
   "source": [
    "EHR"
   ]
  },
  {
   "cell_type": "code",
   "execution_count": 14,
   "metadata": {},
   "outputs": [
    {
     "data": {
      "text/plain": [
       "4007"
      ]
     },
     "execution_count": 14,
     "metadata": {},
     "output_type": "execute_result"
    }
   ],
   "source": [
    "# EHR\n",
    "ehr_dir = DATASETS_DIR / 'ehr'\n",
    "diagnosis2icd_train = parse_ann_files(ehr_dir)\n",
    "# test_dir = DATASETS_DIR / 'test'\n",
    "# diagnosis2icd_test = parse_ann_files(test_dir)\n",
    "# diagnosis2icd = dict(list(diagnosis2icd_train.items()) + list(diagnosis2icd_test.items()))\n",
    "# save_json(diagnosis2icd, DATASETS_DIR /'ehr-diagnosis2icd.json')\n",
    "save_json(diagnosis2icd_train, DATASETS_DIR / 'ehr-train-diagnosis2icd.json')\n",
    "len(diagnosis2icd_train)"
   ]
  },
  {
   "cell_type": "markdown",
   "metadata": {},
   "source": [
    "MKB"
   ]
  },
  {
   "cell_type": "code",
   "execution_count": 13,
   "metadata": {},
   "outputs": [
    {
     "name": "stdout",
     "output_type": "stream",
     "text": [
      "17762\n"
     ]
    },
    {
     "data": {
      "text/plain": [
       "17355"
      ]
     },
     "execution_count": 13,
     "metadata": {},
     "output_type": "execute_result"
    }
   ],
   "source": [
    "# MKB full\n",
    "mkb_icd2diagnosis = yaml.safe_load(Path(DATASETS_DIR / 'mkb2descr.yaml').read_text())\n",
    "print(len(mkb_icd2diagnosis))\n",
    "mkb_full_diagnosis2icd = {}\n",
    "for k, v in mkb_icd2diagnosis.items():\n",
    "    v = v.lower()\n",
    "    # Save first occurence (group code, not specific)\n",
    "    if v not in mkb_full_diagnosis2icd:\n",
    "        mkb_full_diagnosis2icd[v] = k\n",
    "save_json(mkb_full_diagnosis2icd, DATASETS_DIR /'mkb-full-diagnosis2icd.json')\n",
    "len(mkb_full_diagnosis2icd)"
   ]
  },
  {
   "cell_type": "code",
   "execution_count": null,
   "metadata": {},
   "outputs": [],
   "source": [
    "# duplicated = ddf[ddf['diagnosis'].duplicated()]['diagnosis'].to_list()\n",
    "\n",
    "# def combined_diagnosis(row):\n",
    "#     if row.diagnosis in duplicated:\n",
    "#         group_diagnosis = ddf[ddf.index == row.name.split('.')[0]]['diagnosis'].to_string(index=False)\n",
    "#         duplicated.remove(row.diagnosis)\n",
    "#         return f\"{row.diagnosis} ({group_diagnosis})\"\n",
    "#     return row.diagnosis\n",
    "\n",
    "# ddf['diagnosis'] = ddf.apply(combined_diagnosis, axis=1)"
   ]
  },
  {
   "cell_type": "code",
   "execution_count": 107,
   "metadata": {},
   "outputs": [
    {
     "name": "stderr",
     "output_type": "stream",
     "text": [
      "/tmp/ipykernel_1873281/780299714.py:11: SettingWithCopyWarning: \n",
      "A value is trying to be set on a copy of a slice from a DataFrame.\n",
      "Try using .loc[row_indexer,col_indexer] = value instead\n",
      "\n",
      "See the caveats in the documentation: https://pandas.pydata.org/pandas-docs/stable/user_guide/indexing.html#returning-a-view-versus-a-copy\n",
      "  nan_df['icd'] = nan_df['diagnosis'].str.extract(r'\\(([^)]+)\\)$', expand=False).fillna(nan_df['icd']).astype(str).apply(lambda s: s.strip())\n",
      "/tmp/ipykernel_1873281/780299714.py:12: SettingWithCopyWarning: \n",
      "A value is trying to be set on a copy of a slice from a DataFrame.\n",
      "Try using .loc[row_indexer,col_indexer] = value instead\n",
      "\n",
      "See the caveats in the documentation: https://pandas.pydata.org/pandas-docs/stable/user_guide/indexing.html#returning-a-view-versus-a-copy\n",
      "  nan_df['diagnosis'] = nan_df['diagnosis'].str.replace(r'\\s*\\(.*?\\)', '', regex=True)\n"
     ]
    }
   ],
   "source": [
    "# MKB\n",
    "mkb_file_path = DATASETS_DIR / 'MKB10_202405280919.xlsx'\n",
    "df = pd.read_excel(mkb_file_path)\n",
    "df.columns = ['icd', 'diagnosis']\n",
    "df.drop(2010, inplace=True)  # Drop header\n",
    "# df.drop_duplicates(inplace=True)\n",
    "raw_df = df.copy()\n",
    "\n",
    "# df.dropna(inplace=True)\n",
    "nan_df = df[df['icd'].isna() & df['diagnosis'].notna()]\n",
    "nan_df['icd'] = nan_df['diagnosis'].str.extract(r'\\(([^)]+)\\)$', expand=False).fillna(nan_df['icd']).astype(str).apply(lambda s: s.strip())\n",
    "nan_df['diagnosis'] = nan_df['diagnosis'].str.replace(r'\\s*\\(.*?\\)', '', regex=True)\n",
    "df.loc[nan_df.index, :] = nan_df\n",
    "df.drop(index=df[df['icd'] == 'nan'].index, inplace=True)\n",
    "\n",
    "# df.set_index('icd', inplace=True)\n",
    "# mkb_icd2diagnosis = df.to_dict()['diagnosis']\n",
    "# mkb_diagnosis2icd = {v.lower(): k for k, v in mkb_icd2diagnosis.items()}\n",
    "# save_json(mkb_diagnosis2icd, DATASETS_DIR /'mkb-r-diagnosis2icd.json')\n",
    "# len(mkb_diagnosis2icd)"
   ]
  },
  {
   "cell_type": "code",
   "execution_count": 15,
   "metadata": {},
   "outputs": [
    {
     "data": {
      "text/plain": [
       "21197"
      ]
     },
     "execution_count": 15,
     "metadata": {},
     "output_type": "execute_result"
    }
   ],
   "source": [
    "mkb_full_ehr_train_diagnosis2icd = dict(list(mkb_full_diagnosis2icd.items()) + list(diagnosis2icd_train.items()))\n",
    "save_json(mkb_full_ehr_train_diagnosis2icd, DATASETS_DIR /'mkb-full-ehr-train-diagnosis2icd.json')\n",
    "len(mkb_full_ehr_train_diagnosis2icd)"
   ]
  },
  {
   "cell_type": "markdown",
   "metadata": {},
   "source": [
    "RUCCON"
   ]
  },
  {
   "cell_type": "code",
   "execution_count": null,
   "metadata": {},
   "outputs": [],
   "source": [
    "# RUCCON\n",
    "raw_ruccon_dir = Path('../RuCCoN/RUCCON')\n",
    "ruccon_dir = Path(DATASETS_DIR / 'ruccon')\n",
    "ruccon_dir.mkdir(parents=True, exist_ok=True)\n",
    "index = 0\n",
    "\n",
    "for main_dir in raw_ruccon_dir.iterdir():\n",
    "    if main_dir.is_dir() and main_dir.name.startswith(\"main\"):\n",
    "        # Check for subdirectories within /main{N}/*\n",
    "        for sub_dir in main_dir.iterdir():\n",
    "            if sub_dir.is_dir():\n",
    "                ann_files = sorted(sub_dir.glob(\"*.ann\"))\n",
    "                txt_files = sorted(sub_dir.glob(\"*.txt\"))\n",
    "                for file_ann, file_txt in zip(ann_files, txt_files):\n",
    "                    shutil.copy(file_ann, ruccon_dir / f'{index}_{file_ann.stem}{file_ann.suffix}')\n",
    "                    shutil.copy(file_txt, ruccon_dir / f'{index}_{file_txt.stem}{file_txt.suffix}')\n",
    "                    index += 1\n",
    "        # Also check for files directly in /main{N}/\n",
    "        ann_files = sorted(main_dir.glob(\"*.ann\"))\n",
    "        txt_files = sorted(main_dir.glob(\"*.txt\"))\n",
    "        for file_ann, file_txt in zip(ann_files, txt_files):\n",
    "            shutil.copy(file_ann, ruccon_dir / f'{index}_{file_ann.stem}{file_ann.suffix}')\n",
    "            shutil.copy(file_txt, ruccon_dir / f'{index}_{file_txt.stem}{file_txt.suffix}')\n",
    "            index += 1"
   ]
  },
  {
   "cell_type": "code",
   "execution_count": 74,
   "metadata": {},
   "outputs": [],
   "source": [
    "umls_to_icd_file = DATASETS_DIR / \"cui2icds_ICD10_ICD10CM.txt\"\n",
    "umls_to_icd = {}\n",
    "\n",
    "with umls_to_icd_file.open(\"r\", encoding=\"utf-8\") as file:\n",
    "    for line in file:\n",
    "        umls_code, icd_codes = line.strip().split(\"\\t\")\n",
    "        # Find the shortest ICD code, prioritize those with '-'\n",
    "        icd_code = sorted(icd_codes.split('|'), key=lambda x: ('-' not in x, len(x)))[0]\n",
    "        umls_to_icd[umls_code] = icd_code"
   ]
  },
  {
   "cell_type": "code",
   "execution_count": 95,
   "metadata": {},
   "outputs": [],
   "source": [
    "ruccon_dir = DATASETS_DIR / 'ruccon'\n",
    "ruccon_diagnosis2icd = {}\n",
    "for file_ann in ruccon_dir.glob(\"*.ann\"):\n",
    "    ann_text = file_ann.read_text(encoding=\"utf-8\")\n",
    "    t_numbers = []\n",
    "    references = {}\n",
    "    for line in ann_text.splitlines():\n",
    "        if line.startswith(\"T\"):\n",
    "            t_number = line.split(\"\\t\")[0]\n",
    "            t_numbers.append(t_number)\n",
    "        elif line.startswith(\"N\"):\n",
    "            n_number, reference, entity_string = line.split(\"\\t\", 2)\n",
    "            _, t_ref, umls = reference.split(' ', 2)\n",
    "            if t_ref in t_numbers:\n",
    "                _, umls_code = umls.split(\":\")\n",
    "                references[t_ref] = (entity_string, umls_code)\n",
    "    for t_number in t_numbers:\n",
    "        diagnosis_umls = references.get(t_number, None)\n",
    "        if diagnosis_umls:\n",
    "            diagnosis, umls_code = diagnosis_umls\n",
    "            diagnosis = diagnosis.strip().lower()\n",
    "            icd_code = umls_to_icd.get(umls_code, None)\n",
    "            if icd_code:\n",
    "                ruccon_diagnosis2icd[diagnosis] = icd_code"
   ]
  },
  {
   "cell_type": "code",
   "execution_count": 96,
   "metadata": {},
   "outputs": [
    {
     "data": {
      "text/plain": [
       "627"
      ]
     },
     "execution_count": 96,
     "metadata": {},
     "output_type": "execute_result"
    }
   ],
   "source": [
    "len(ruccon_diagnosis2icd)"
   ]
  },
  {
   "cell_type": "code",
   "execution_count": 60,
   "metadata": {},
   "outputs": [],
   "source": [
    "save_json(ruccon_diagnosis2icd, DATASETS_DIR /'ruccon-diagnosis2icd.json')"
   ]
  },
  {
   "cell_type": "markdown",
   "metadata": {},
   "source": [
    "NEREL-BIO"
   ]
  },
  {
   "cell_type": "code",
   "execution_count": 10,
   "metadata": {},
   "outputs": [],
   "source": [
    "# https://github.com/nerel-ds/NEREL-BIO/tree/master/nerel-bio-v1.0/train\n",
    "# NEREL-BIO\n",
    "raw_nerel_bio_dir = Path('../NEREL-BIO/nerel-bio-v1.0/train')\n",
    "nerel_bio_dir = Path(DATASETS_DIR / 'nerel-bio')\n",
    "nerel_bio_dir.mkdir(parents=True, exist_ok=True)\n",
    "\n",
    "for file_ann, file_txt in zip(raw_nerel_bio_dir.glob(\"*.ann\"), raw_nerel_bio_dir.glob(\"*.txt\")):\n",
    "    shutil.copy(file_ann, nerel_bio_dir / file_ann.name)\n",
    "    shutil.copy(file_txt, nerel_bio_dir / file_txt.name)"
   ]
  },
  {
   "cell_type": "code",
   "execution_count": 87,
   "metadata": {},
   "outputs": [],
   "source": [
    "umls_to_icd_file = DATASETS_DIR / \"cui2icds_ICD10_ICD10CM.txt\"\n",
    "umls_to_icd = {}\n",
    "\n",
    "with umls_to_icd_file.open(\"r\", encoding=\"utf-8\") as file:\n",
    "    for line in file:\n",
    "        umls_code, icd_codes = line.strip().split(\"\\t\")\n",
    "        # Find the shortest ICD code, prioritize those with '-'\n",
    "        icd_code = sorted(icd_codes.split('|'), key=lambda x: ('-' not in x, len(x)))[0]\n",
    "        umls_to_icd[umls_code] = icd_code"
   ]
  },
  {
   "cell_type": "code",
   "execution_count": 91,
   "metadata": {},
   "outputs": [],
   "source": [
    "vocab_path = DATASETS_DIR / \"vocab_umls_rus_biosyn.txt\"\n",
    "diagnosis2umls = {}\n",
    "with vocab_path.open(\"r\", encoding=\"utf-8\") as file:\n",
    "    for line in file:\n",
    "        umls_code, diagnosis = line.strip().split(\"||\")\n",
    "        diagnosis = diagnosis.strip().lower()\n",
    "        if diagnosis not in diagnosis2umls:\n",
    "            diagnosis2umls[diagnosis] = umls_code"
   ]
  },
  {
   "cell_type": "code",
   "execution_count": 92,
   "metadata": {},
   "outputs": [],
   "source": [
    "nerel_bio_path = DATASETS_DIR / 'nerel-bio'\n",
    "nerel_bio_diagnosis2icd = {}\n",
    "for file_ann in nerel_bio_path.glob(\"*.ann\"):\n",
    "    ann_text = file_ann.read_text(encoding=\"utf-8\")\n",
    "    for line in ann_text.splitlines():\n",
    "        if line.startswith(\"T\"):\n",
    "            _, _, extracted_string = line.split(\"\\t\", 2)\n",
    "            extracted_string = extracted_string.strip().lower()\n",
    "            umls_code = diagnosis2umls.get(extracted_string, None)\n",
    "            if umls_code:\n",
    "                icd_code = umls_to_icd.get(umls_code, None)\n",
    "                if icd_code:\n",
    "                    nerel_bio_diagnosis2icd[extracted_string] = icd_code"
   ]
  },
  {
   "cell_type": "code",
   "execution_count": 93,
   "metadata": {},
   "outputs": [
    {
     "data": {
      "text/plain": [
       "264"
      ]
     },
     "execution_count": 93,
     "metadata": {},
     "output_type": "execute_result"
    }
   ],
   "source": [
    "len(nerel_bio_diagnosis2icd)"
   ]
  },
  {
   "cell_type": "code",
   "execution_count": 94,
   "metadata": {},
   "outputs": [],
   "source": [
    "save_json(nerel_bio_diagnosis2icd, DATASETS_DIR /'nerel-bio-diagnosis2icd.json')"
   ]
  }
 ],
 "metadata": {
  "kernelspec": {
   "display_name": "med-qa",
   "language": "python",
   "name": "python3"
  },
  "language_info": {
   "codemirror_mode": {
    "name": "ipython",
    "version": 3
   },
   "file_extension": ".py",
   "mimetype": "text/x-python",
   "name": "python",
   "nbconvert_exporter": "python",
   "pygments_lexer": "ipython3",
   "version": "3.10.15"
  }
 },
 "nbformat": 4,
 "nbformat_minor": 2
}
