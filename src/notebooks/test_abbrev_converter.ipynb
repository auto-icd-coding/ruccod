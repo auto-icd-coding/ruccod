{
 "cells": [
  {
   "cell_type": "code",
   "execution_count": 2,
   "metadata": {},
   "outputs": [],
   "source": [
    "import re\n",
    "import yaml"
   ]
  },
  {
   "cell_type": "code",
   "execution_count": 3,
   "metadata": {},
   "outputs": [
    {
     "data": {
      "text/plain": [
       "4506"
      ]
     },
     "execution_count": 3,
     "metadata": {},
     "output_type": "execute_result"
    }
   ],
   "source": [
    "with open('abbr2term.yaml', 'r') as f:\n",
    "    abbr2term = yaml.safe_load(f)\n",
    "len(abbr2term)"
   ]
  },
  {
   "cell_type": "code",
   "execution_count": 7,
   "metadata": {},
   "outputs": [],
   "source": [
    "def ABBREV_to_term(text: str, abbr2term: dict) -> str:\n",
    "    \"\"\" Метод осуществляющий поиск и замену аббревиатур в строке на их расшифровки.\n",
    "    На вход получает текст, возвращает текст с расшифрованными аббревиатурами\n",
    "    \"\"\"\n",
    "    abbr_pattern = r'\\b[А-Я]{2,8}\\b'\n",
    "    abbrs = re.findall(abbr_pattern, text)\n",
    "    for abbr in abbrs:\n",
    "        if abbr in abbr2term:\n",
    "            text = re.sub(abbr, abbr2term[abbr], text)\n",
    "    return text"
   ]
  },
  {
   "cell_type": "code",
   "execution_count": 5,
   "metadata": {},
   "outputs": [],
   "source": [
    "test_text = 'ИБС. Стенокардия напряжения. ГБ 3 риск ССО 4. СД 2 типа'"
   ]
  },
  {
   "cell_type": "code",
   "execution_count": 10,
   "metadata": {},
   "outputs": [
    {
     "data": {
      "text/plain": [
       "'ишемической болезни сердца. Стенокардия напряжения. гипертонической болезни 3 риск сердечно-сосудистых осложнений 4. сахарный диабет 2 типа'"
      ]
     },
     "execution_count": 10,
     "metadata": {},
     "output_type": "execute_result"
    }
   ],
   "source": [
    "ABBREV_to_term(test_text, abbr2term)"
   ]
  },
  {
   "cell_type": "code",
   "execution_count": null,
   "metadata": {},
   "outputs": [],
   "source": []
  }
 ],
 "metadata": {
  "kernelspec": {
   "display_name": "auto_mkb_env",
   "language": "python",
   "name": "python3"
  },
  "language_info": {
   "codemirror_mode": {
    "name": "ipython",
    "version": 3
   },
   "file_extension": ".py",
   "mimetype": "text/x-python",
   "name": "python",
   "nbconvert_exporter": "python",
   "pygments_lexer": "ipython3",
   "version": "3.10.12"
  }
 },
 "nbformat": 4,
 "nbformat_minor": 2
}
